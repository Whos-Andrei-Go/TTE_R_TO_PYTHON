{
 "cells": [
  {
   "cell_type": "markdown",
   "metadata": {},
   "source": [
    "# **Target Trial Emulation in Python**"
   ]
  },
  {
   "cell_type": "markdown",
   "metadata": {},
   "source": [
    "## 1. Setup"
   ]
  },
  {
   "cell_type": "markdown",
   "metadata": {},
   "source": [
    "### a. Library and Paths Setup"
   ]
  },
  {
   "cell_type": "code",
   "execution_count": 1,
   "metadata": {},
   "outputs": [],
   "source": [
    "import pandas as pd\n",
    "import os\n",
    "import numpy as np\n",
    "import matplotlib.pyplot as plt\n",
    "\n",
    "# Add working directory to path\n",
    "import sys\n",
    "cwd = os.getcwd()\n",
    "if cwd not in sys.path:\n",
    "    sys.path.append(cwd)\n",
    "\n",
    "# Custom modules\n",
    "from custom_modules.trialemulation.trial_sequence import trial_sequence\n",
    "from custom_modules.trialemulation.te_stats_glm_logit import TEStatsGLMLogit\n",
    "from custom_modules.trialemulation.te_datastore import save_to_datatable\n",
    "\n",
    "CSV_PATH = './csv_files/'\n",
    "PP_PATH = './models/PP/'\n",
    "ITT_PATH = './models/ITT/'\n",
    "SCRIPT_PATH = os.getcwd()\n",
    "\n",
    "# Set pandas display options to prevent wrapping\n",
    "pd.set_option('display.width', 1000)  # Adjust width to fit your terminal\n",
    "pd.set_option('display.max_columns', None)  # Show all columns"
   ]
  },
  {
   "cell_type": "markdown",
   "metadata": {},
   "source": [
    "### b. Specify estimands"
   ]
  },
  {
   "cell_type": "code",
   "execution_count": 2,
   "metadata": {},
   "outputs": [],
   "source": [
    "trial_pp = trial_sequence(\"PP\")  # Per-protocol\n",
    "trial_itt = trial_sequence(\"ITT\") # Intention-to-treat"
   ]
  },
  {
   "cell_type": "markdown",
   "metadata": {},
   "source": [
    "### c. Create directories"
   ]
  },
  {
   "cell_type": "code",
   "execution_count": 3,
   "metadata": {},
   "outputs": [],
   "source": [
    "trial_pp_dir = os.path.join(os.getcwd(), \"trial_pp\")\n",
    "os.makedirs(trial_pp_dir, exist_ok=True)\n",
    "\n",
    "trial_itt_dir = os.path.join(os.getcwd(), \"trial_itt\")\n",
    "os.makedirs(trial_itt_dir, exist_ok=True)"
   ]
  },
  {
   "cell_type": "markdown",
   "metadata": {},
   "source": [
    "## 2. Data Preparation"
   ]
  },
  {
   "cell_type": "markdown",
   "metadata": {},
   "source": [
    "### a. Load the data"
   ]
  },
  {
   "cell_type": "code",
   "execution_count": 4,
   "metadata": {},
   "outputs": [
    {
     "name": "stdout",
     "output_type": "stream",
     "text": [
      "Data loaded successfully!\n",
      "   id  period  treatment  x1        x2  x3        x4  age     age_s  outcome  censored  eligible\n",
      "0   1       0          1   1  1.146148   0  0.734203   36  0.083333        0         0         1\n",
      "1   1       1          1   1  0.002200   0  0.734203   37  0.166667        0         0         0\n",
      "2   1       2          1   0 -0.481762   0  0.734203   38  0.250000        0         0         0\n",
      "3   1       3          1   0  0.007872   0  0.734203   39  0.333333        0         0         0\n",
      "4   1       4          1   1  0.216054   0  0.734203   40  0.416667        0         0         0\n"
     ]
    }
   ],
   "source": [
    "file_path = os.path.join(CSV_PATH, \"data_censored.csv\")\n",
    "\n",
    "# Read the CSV file into a DataFrame\n",
    "try:\n",
    "    data_censored = pd.read_csv(file_path)\n",
    "    print(\"Data loaded successfully!\")\n",
    "    print(data_censored.head())  # Display the first few rows\n",
    "except FileNotFoundError:\n",
    "    print(f\"File not found at {file_path}\")"
   ]
  },
  {
   "cell_type": "markdown",
   "metadata": {},
   "source": [
    "### b. Set the data"
   ]
  },
  {
   "cell_type": "code",
   "execution_count": 5,
   "metadata": {},
   "outputs": [],
   "source": [
    "trial_pp = trial_pp.set_data(\n",
    "    data=data_censored,\n",
    "    id_col=\"id\",\n",
    "    period_col=\"period\",\n",
    "    treatment_col=\"treatment\",\n",
    "    outcome_col=\"outcome\",\n",
    "    eligible_col=\"eligible\"\n",
    ")\n",
    "\n",
    "trial_itt = trial_itt.set_data(\n",
    "    data=data_censored,\n",
    "    id_col=\"id\",\n",
    "    period_col=\"period\",\n",
    "    treatment_col=\"treatment\",\n",
    "    outcome_col=\"outcome\",\n",
    "    eligible_col=\"eligible\"\n",
    ")"
   ]
  },
  {
   "cell_type": "code",
   "execution_count": 6,
   "metadata": {},
   "outputs": [
    {
     "name": "stdout",
     "output_type": "stream",
     "text": [
      "Trial Sequence Object\n",
      "Estimand: Intention-to-treat\n",
      "\n",
      "Data:\n",
      "     id  period  treatment  x1        x2  x3        x4  age     age_s  outcome  censored  eligible  time_of_event  first  am_1  cumA  switch  regime_start  time_on_regime  eligible0  eligible1\n",
      "0     1       0          1   1  1.146148   0  0.734203   36  0.083333        0         0         1         9999.0   True     0     1       0             0               0          1          0\n",
      "1     1       1          1   1  0.002200   0  0.734203   37  0.166667        0         0         0         9999.0  False     1     2       0             1               1          0          1\n",
      "2     1       2          1   0 -0.481762   0  0.734203   38  0.250000        0         0         0         9999.0  False     1     3       0             2               1          0          1\n",
      "3     1       3          1   0  0.007872   0  0.734203   39  0.333333        0         0         0         9999.0  False     1     4       0             3               1          0          1\n",
      "4     1       4          1   1  0.216054   0  0.734203   40  0.416667        0         0         0         9999.0  False     1     5       0             4               1          0          1\n",
      "..   ..     ...        ...  ..       ...  ..       ...  ...       ...      ...       ...       ...            ...    ...   ...   ...     ...           ...             ...        ...        ...\n",
      "704  98       2          1   0 -0.735241   0  0.317418   66  2.583333        0         0         0           14.0  False     1     3       0             2               1          0          1\n",
      "705  98       3          0   0 -0.425345   0  0.317418   67  2.666667        0         0         0           14.0  False     1     3       1             3               1          0          1\n",
      "717  99       0          1   1 -0.346378   1  0.575268   65  2.500000        0         0         1            7.0   True     0     1       0             0               0          1          0\n",
      "718  99       1          1   0 -1.106481   1  0.575268   66  2.583333        0         0         0            7.0  False     1     2       0             1               1          0          1\n",
      "719  99       2          0   0  1.650478   1  0.575268   67  2.666667        0         0         0            7.0  False     1     2       1             2               1          0          1\n",
      "\n",
      "[321 rows x 21 columns]\n"
     ]
    }
   ],
   "source": [
    "trial_itt.show()"
   ]
  },
  {
   "cell_type": "markdown",
   "metadata": {},
   "source": [
    "## 3. Weight models and censoring"
   ]
  },
  {
   "cell_type": "markdown",
   "metadata": {},
   "source": [
    "### a. Censoring due to treatment switching"
   ]
  },
  {
   "cell_type": "code",
   "execution_count": 7,
   "metadata": {},
   "outputs": [
    {
     "name": "stdout",
     "output_type": "stream",
     "text": [
      " - Numerator formula: treatment ~ age\n",
      " - Denominator formula: treatment ~ age + x1 + x3\n",
      " - Model fitter type: TEStatsGLMLogit\n",
      " - Weight models not fitted. Use calculate_weights()\n"
     ]
    }
   ],
   "source": [
    "# Set switch weight model\n",
    "trial_pp = trial_pp.set_switch_weight_model(\n",
    "    numerator=\"age\",  \n",
    "    denominator=\"age + x1 + x3\",  \n",
    "    model_fitter=TEStatsGLMLogit(os.path.join(PP_PATH, \"switch_models\"))\n",
    ")\n",
    "\n",
    "trial_pp.switch_weights.show()"
   ]
  },
  {
   "cell_type": "markdown",
   "metadata": {},
   "source": [
    "### 3.2 Other informative censoring"
   ]
  },
  {
   "cell_type": "code",
   "execution_count": 8,
   "metadata": {},
   "outputs": [
    {
     "name": "stdout",
     "output_type": "stream",
     "text": [
      " - Numerator formula: (1 - censored) ~ x2\n",
      " - Denominator formula: (1 - censored) ~ x2 + x1\n",
      " - Model fitter type: TEStatsGLMLogit\n",
      " - Weight models not fitted. Use calculate_weights()\n"
     ]
    }
   ],
   "source": [
    "# Set censor weight model\n",
    "trial_pp = trial_pp.set_censor_weight_model(\n",
    "    censor_event=\"censored\",\n",
    "    numerator=\"~ x2\",\n",
    "    denominator=\"~ x2 + x1\",\n",
    "    pool_models=\"none\",\n",
    "    model_fitter=TEStatsGLMLogit(os.path.join(PP_PATH, \"switch_models\"))\n",
    ")\n",
    "\n",
    "# Display censor weights\n",
    "trial_pp.censor_weights.show()"
   ]
  },
  {
   "cell_type": "code",
   "execution_count": 9,
   "metadata": {},
   "outputs": [
    {
     "name": "stdout",
     "output_type": "stream",
     "text": [
      " - Numerator formula: (1 - censored) ~ x2\n",
      " - Denominator formula: (1 - censored) ~ x2 + x1\n",
      " - Numerator model is pooled. Denominator model is not.\n",
      " - Model fitter type: TEStatsGLMLogit\n",
      " - Weight models not fitted. Use calculate_weights()\n"
     ]
    }
   ],
   "source": [
    "# Set censor weight model\n",
    "trial_itt = trial_itt.set_censor_weight_model(\n",
    "    censor_event=\"censored\",\n",
    "    numerator=\"~ x2\",\n",
    "    denominator=\"~ x2 + x1\",\n",
    "    pool_models=\"numerator\",\n",
    "    model_fitter= TEStatsGLMLogit(save_path = ITT_PATH + \"switch_models\")\n",
    ")\n",
    "\n",
    "trial_itt.censor_weights.show()"
   ]
  },
  {
   "cell_type": "markdown",
   "metadata": {},
   "source": [
    "## 4. Calculate weights"
   ]
  },
  {
   "cell_type": "code",
   "execution_count": 10,
   "metadata": {},
   "outputs": [
    {
     "name": "stderr",
     "output_type": "stream",
     "text": [
      "c:\\Users\\andre\\AppData\\Local\\Programs\\Python\\Python313\\Lib\\site-packages\\statsmodels\\genmod\\generalized_linear_model.py:1342: PerfectSeparationWarning: Perfect separation or prediction detected, parameter may not be identified\n",
      "  warnings.warn(msg, category=PerfectSeparationWarning)\n",
      "c:\\Users\\andre\\AppData\\Local\\Programs\\Python\\Python313\\Lib\\site-packages\\statsmodels\\genmod\\generalized_linear_model.py:1342: PerfectSeparationWarning: Perfect separation or prediction detected, parameter may not be identified\n",
      "  warnings.warn(msg, category=PerfectSeparationWarning)\n",
      "c:\\Users\\andre\\AppData\\Local\\Programs\\Python\\Python313\\Lib\\site-packages\\statsmodels\\genmod\\generalized_linear_model.py:1342: PerfectSeparationWarning: Perfect separation or prediction detected, parameter may not be identified\n",
      "  warnings.warn(msg, category=PerfectSeparationWarning)\n",
      "c:\\Users\\andre\\AppData\\Local\\Programs\\Python\\Python313\\Lib\\site-packages\\statsmodels\\genmod\\generalized_linear_model.py:1342: PerfectSeparationWarning: Perfect separation or prediction detected, parameter may not be identified\n",
      "  warnings.warn(msg, category=PerfectSeparationWarning)\n",
      "c:\\Users\\andre\\AppData\\Local\\Programs\\Python\\Python313\\Lib\\site-packages\\statsmodels\\genmod\\generalized_linear_model.py:1342: PerfectSeparationWarning: Perfect separation or prediction detected, parameter may not be identified\n",
      "  warnings.warn(msg, category=PerfectSeparationWarning)\n",
      "c:\\Users\\andre\\AppData\\Local\\Programs\\Python\\Python313\\Lib\\site-packages\\statsmodels\\genmod\\generalized_linear_model.py:1342: PerfectSeparationWarning: Perfect separation or prediction detected, parameter may not be identified\n",
      "  warnings.warn(msg, category=PerfectSeparationWarning)\n",
      "c:\\Users\\andre\\AppData\\Local\\Programs\\Python\\Python313\\Lib\\site-packages\\statsmodels\\genmod\\generalized_linear_model.py:1342: PerfectSeparationWarning: Perfect separation or prediction detected, parameter may not be identified\n",
      "  warnings.warn(msg, category=PerfectSeparationWarning)\n",
      "c:\\Users\\andre\\AppData\\Local\\Programs\\Python\\Python313\\Lib\\site-packages\\statsmodels\\genmod\\generalized_linear_model.py:1342: PerfectSeparationWarning: Perfect separation or prediction detected, parameter may not be identified\n",
      "  warnings.warn(msg, category=PerfectSeparationWarning)\n",
      "c:\\Users\\andre\\AppData\\Local\\Programs\\Python\\Python313\\Lib\\site-packages\\statsmodels\\genmod\\generalized_linear_model.py:1342: PerfectSeparationWarning: Perfect separation or prediction detected, parameter may not be identified\n",
      "  warnings.warn(msg, category=PerfectSeparationWarning)\n",
      "c:\\Users\\andre\\AppData\\Local\\Programs\\Python\\Python313\\Lib\\site-packages\\statsmodels\\genmod\\generalized_linear_model.py:1342: PerfectSeparationWarning: Perfect separation or prediction detected, parameter may not be identified\n",
      "  warnings.warn(msg, category=PerfectSeparationWarning)\n",
      "c:\\Users\\andre\\AppData\\Local\\Programs\\Python\\Python313\\Lib\\site-packages\\statsmodels\\genmod\\generalized_linear_model.py:1342: PerfectSeparationWarning: Perfect separation or prediction detected, parameter may not be identified\n",
      "  warnings.warn(msg, category=PerfectSeparationWarning)\n",
      "c:\\Users\\andre\\AppData\\Local\\Programs\\Python\\Python313\\Lib\\site-packages\\statsmodels\\genmod\\generalized_linear_model.py:1342: PerfectSeparationWarning: Perfect separation or prediction detected, parameter may not be identified\n",
      "  warnings.warn(msg, category=PerfectSeparationWarning)\n",
      "c:\\Users\\andre\\AppData\\Local\\Programs\\Python\\Python313\\Lib\\site-packages\\statsmodels\\genmod\\generalized_linear_model.py:1342: PerfectSeparationWarning: Perfect separation or prediction detected, parameter may not be identified\n",
      "  warnings.warn(msg, category=PerfectSeparationWarning)\n",
      "c:\\Users\\andre\\AppData\\Local\\Programs\\Python\\Python313\\Lib\\site-packages\\statsmodels\\genmod\\generalized_linear_model.py:1342: PerfectSeparationWarning: Perfect separation or prediction detected, parameter may not be identified\n",
      "  warnings.warn(msg, category=PerfectSeparationWarning)\n",
      "c:\\Users\\andre\\AppData\\Local\\Programs\\Python\\Python313\\Lib\\site-packages\\statsmodels\\genmod\\generalized_linear_model.py:1342: PerfectSeparationWarning: Perfect separation or prediction detected, parameter may not be identified\n",
      "  warnings.warn(msg, category=PerfectSeparationWarning)\n",
      "c:\\Users\\andre\\AppData\\Local\\Programs\\Python\\Python313\\Lib\\site-packages\\statsmodels\\genmod\\generalized_linear_model.py:1342: PerfectSeparationWarning: Perfect separation or prediction detected, parameter may not be identified\n",
      "  warnings.warn(msg, category=PerfectSeparationWarning)\n",
      "c:\\Users\\andre\\AppData\\Local\\Programs\\Python\\Python313\\Lib\\site-packages\\statsmodels\\genmod\\families\\family.py:1056: RuntimeWarning: invalid value encountered in log\n",
      "  special.gammaln(n - y + 1) + y * np.log(mu / (1 - mu + 1e-20)) +\n",
      "c:\\Users\\andre\\AppData\\Local\\Programs\\Python\\Python313\\Lib\\site-packages\\statsmodels\\genmod\\families\\family.py:1057: RuntimeWarning: invalid value encountered in log\n",
      "  n * np.log(1 - mu + 1e-20)) * var_weights\n",
      "c:\\Users\\andre\\AppData\\Local\\Programs\\Python\\Python313\\Lib\\site-packages\\statsmodels\\genmod\\generalized_linear_model.py:1342: PerfectSeparationWarning: Perfect separation or prediction detected, parameter may not be identified\n",
      "  warnings.warn(msg, category=PerfectSeparationWarning)\n",
      "c:\\Users\\andre\\AppData\\Local\\Programs\\Python\\Python313\\Lib\\site-packages\\statsmodels\\genmod\\generalized_linear_model.py:1342: PerfectSeparationWarning: Perfect separation or prediction detected, parameter may not be identified\n",
      "  warnings.warn(msg, category=PerfectSeparationWarning)\n",
      "c:\\Users\\andre\\AppData\\Local\\Programs\\Python\\Python313\\Lib\\site-packages\\statsmodels\\genmod\\generalized_linear_model.py:1342: PerfectSeparationWarning: Perfect separation or prediction detected, parameter may not be identified\n",
      "  warnings.warn(msg, category=PerfectSeparationWarning)\n",
      "c:\\Users\\andre\\AppData\\Local\\Programs\\Python\\Python313\\Lib\\site-packages\\statsmodels\\genmod\\generalized_linear_model.py:1342: PerfectSeparationWarning: Perfect separation or prediction detected, parameter may not be identified\n",
      "  warnings.warn(msg, category=PerfectSeparationWarning)\n",
      "c:\\Users\\andre\\AppData\\Local\\Programs\\Python\\Python313\\Lib\\site-packages\\statsmodels\\genmod\\generalized_linear_model.py:1342: PerfectSeparationWarning: Perfect separation or prediction detected, parameter may not be identified\n",
      "  warnings.warn(msg, category=PerfectSeparationWarning)\n",
      "c:\\Users\\andre\\AppData\\Local\\Programs\\Python\\Python313\\Lib\\site-packages\\statsmodels\\genmod\\generalized_linear_model.py:1342: PerfectSeparationWarning: Perfect separation or prediction detected, parameter may not be identified\n",
      "  warnings.warn(msg, category=PerfectSeparationWarning)\n",
      "c:\\Users\\andre\\AppData\\Local\\Programs\\Python\\Python313\\Lib\\site-packages\\statsmodels\\genmod\\generalized_linear_model.py:1342: PerfectSeparationWarning: Perfect separation or prediction detected, parameter may not be identified\n",
      "  warnings.warn(msg, category=PerfectSeparationWarning)\n",
      "c:\\Users\\andre\\AppData\\Local\\Programs\\Python\\Python313\\Lib\\site-packages\\statsmodels\\genmod\\generalized_linear_model.py:1342: PerfectSeparationWarning: Perfect separation or prediction detected, parameter may not be identified\n",
      "  warnings.warn(msg, category=PerfectSeparationWarning)\n"
     ]
    }
   ],
   "source": [
    "# Calculate weights for Per-protocol trial\n",
    "trial_pp = trial_pp.calculate_weights()\n",
    "\n",
    "# Calculate weights for ITT trial\n",
    "trial_itt = trial_itt.calculate_weights()"
   ]
  },
  {
   "cell_type": "code",
   "execution_count": 11,
   "metadata": {},
   "outputs": [
    {
     "name": "stdout",
     "output_type": "stream",
     "text": [
      "Weight Models for Informative Censoring\n",
      "[[n]]\n",
      "Model: P(censor_event = 0 | X) for numerator\n",
      "Summary [tidy]:\n",
      "                   Coef.      Std.Err.             z     P>|z|        [0.025        0.975]\n",
      "Intercept  2.556607e+01  12161.762392  2.102168e-03  0.998323 -23811.050208  23862.182345\n",
      "x2        -2.171798e-14  12434.708391 -1.746561e-18  1.000000 -24371.580605  24371.580605\n",
      "Summary [glance]:\n",
      "                      0                 1                2            3\n",
      "0               Model:               GLM             AIC:       4.0000\n",
      "1       Link Function:             Logit             BIC:   -1841.0897\n",
      "2  Dependent Variable:         Intercept  Log-Likelihood:  -2.5306e-09\n",
      "3                Date:  2025-03-09 23:59         LL-Null:       0.0000\n",
      "4    No. Observations:               321        Deviance:   5.0622e-09\n",
      "5            Df Model:                 1    Pearson chi2:     2.53e-09\n",
      "6        Df Residuals:               319           Scale:       1.0000\n",
      "7              Method:              IRLS                              \n",
      "Summary [save_path]:\n",
      " ./models/ITT/switch_models\\model_P_censor_event___0___X__for_numerator.pkl\n",
      "Fitted values:\n",
      " 0      1.0\n",
      "1      1.0\n",
      "2      1.0\n",
      "3      1.0\n",
      "4      1.0\n",
      "      ... \n",
      "704    1.0\n",
      "705    1.0\n",
      "717    1.0\n",
      "718    1.0\n",
      "719    1.0\n",
      "Length: 321, dtype: float64\n"
     ]
    }
   ],
   "source": [
    "trial_itt.show_weight_models()"
   ]
  },
  {
   "cell_type": "code",
   "execution_count": 12,
   "metadata": {},
   "outputs": [
    {
     "name": "stdout",
     "output_type": "stream",
     "text": [
      "Weight Models for Informative Censoring\n",
      "[[n0]]\n",
      "Model: P(censor_event = 0 | X, previous treatment = 0) for numerator\n",
      "Summary [tidy]:\n",
      "                   Coef.      Std.Err.             z    P>|z|        [0.025        0.975]\n",
      "Intercept  2.556607e+01  16581.144002  1.541876e-03  0.99877 -32472.878998  32524.011135\n",
      "x2        -8.881784e-16  17442.895871 -5.091921e-20  1.00000 -34187.447692  34187.447692\n",
      "Summary [glance]:\n",
      "                      0                 1                2            3\n",
      "0               Model:               GLM             AIC:       4.0000\n",
      "1       Link Function:             Logit             BIC:    -862.8141\n",
      "2  Dependent Variable:         Intercept  Log-Likelihood:  -1.3402e-09\n",
      "3                Date:  2025-03-09 23:59         LL-Null:       0.0000\n",
      "4    No. Observations:               170        Deviance:   2.6809e-09\n",
      "5            Df Model:                 1    Pearson chi2:     1.34e-09\n",
      "6        Df Residuals:               168           Scale:       1.0000\n",
      "7              Method:              IRLS                              \n",
      "Summary [save_path]:\n",
      " ./models/PP/switch_models\\model_P_censor_event___0___X__previous_treatment___0__for_numerator.pkl\n",
      "Fitted values:\n",
      " 0      1.0\n",
      "6      1.0\n",
      "7      1.0\n",
      "11     1.0\n",
      "19     1.0\n",
      "      ... \n",
      "681    1.0\n",
      "682    1.0\n",
      "701    1.0\n",
      "702    1.0\n",
      "717    1.0\n",
      "Length: 170, dtype: float64\n",
      "[[n1]]\n",
      "Model: P(censor_event = 0 | X, previous treatment = 1) for numerator\n",
      "Summary [tidy]:\n",
      "                   Coef.      Std.Err.             z    P>|z|        [0.025        0.975]\n",
      "Intercept  2.556607e+01  18048.041846  1.416556e-03  0.99887 -35347.945941  35399.078079\n",
      "x2         3.474998e-14  17903.673111  1.940941e-18  1.00000 -35090.554488  35090.554488\n",
      "Summary [glance]:\n",
      "                      0                 1                2            3\n",
      "0               Model:               GLM             AIC:       4.0000\n",
      "1       Link Function:             Logit             BIC:    -747.5747\n",
      "2  Dependent Variable:         Intercept  Log-Likelihood:  -1.1904e-09\n",
      "3                Date:  2025-03-09 23:59         LL-Null:          nan\n",
      "4    No. Observations:               151        Deviance:   2.3813e-09\n",
      "5            Df Model:                 1    Pearson chi2:     1.19e-09\n",
      "6        Df Residuals:               149           Scale:       1.0000\n",
      "7              Method:              IRLS                              \n",
      "Summary [save_path]:\n",
      " ./models/PP/switch_models\\model_P_censor_event___0___X__previous_treatment___1__for_numerator.pkl\n",
      "Fitted values:\n",
      " 1      1.0\n",
      "2      1.0\n",
      "3      1.0\n",
      "4      1.0\n",
      "5      1.0\n",
      "      ... \n",
      "703    1.0\n",
      "704    1.0\n",
      "705    1.0\n",
      "718    1.0\n",
      "719    1.0\n",
      "Length: 151, dtype: float64\n",
      "Weight Models for Treatment Switching\n",
      "[[n1]]\n",
      "Model: P(treatment = 1 | previous treatment = 1) for numerator\n",
      "Summary [tidy]:\n",
      "               Coef.  Std.Err.         z     P>|z|    [0.025    0.975]\n",
      "Intercept  1.801622  0.774631  2.325780  0.020030  0.283372  3.319871\n",
      "age       -0.023511  0.016920 -1.389581  0.164656 -0.056673  0.009651\n",
      "Summary [glance]:\n",
      "                      0                 1                2          3\n",
      "0               Model:               GLM             AIC:   190.8756\n",
      "1       Link Function:             Logit             BIC:  -560.6991\n",
      "2  Dependent Variable:         treatment  Log-Likelihood:    -93.438\n",
      "3                Date:  2025-03-09 23:59         LL-Null:    -94.415\n",
      "4    No. Observations:               151        Deviance:     186.88\n",
      "5            Df Model:                 1    Pearson chi2:       151.\n",
      "6        Df Residuals:               149           Scale:     1.0000\n",
      "7              Method:              IRLS                            \n",
      "Summary [save_path]:\n",
      " ./models/PP/switch_models\\model_P_treatment___1___previous_treatment___1__for_numerator.pkl\n",
      "Fitted values:\n",
      " 1      0.717422\n",
      "2      0.712631\n",
      "3      0.707792\n",
      "4      0.702906\n",
      "5      0.697973\n",
      "         ...   \n",
      "703    0.567926\n",
      "704    0.562148\n",
      "705    0.556353\n",
      "718    0.562148\n",
      "719    0.556353\n",
      "Length: 151, dtype: float64\n",
      "[[d1]]\n",
      "Model: P(treatment = 1 | previous treatment = 1) for denominator\n",
      "Summary [tidy]:\n",
      "               Coef.  Std.Err.         z     P>|z|    [0.025    0.975]\n",
      "Intercept  1.554852  0.817070  1.902960  0.057046 -0.046576  3.156279\n",
      "age       -0.023120  0.016968 -1.362546  0.173026 -0.056378  0.010137\n",
      "x1         0.529159  0.435949  1.213810  0.224820 -0.325285  1.383602\n",
      "x3         0.213196  0.357444  0.596446  0.550877 -0.487381  0.913773\n",
      "Summary [glance]:\n",
      "                      0                 1                2          3\n",
      "0               Model:               GLM             AIC:   193.0957\n",
      "1       Link Function:             Logit             BIC:  -552.4444\n",
      "2  Dependent Variable:         treatment  Log-Likelihood:    -92.548\n",
      "3                Date:  2025-03-09 23:59         LL-Null:    -94.415\n",
      "4    No. Observations:               151        Deviance:     185.10\n",
      "5            Df Model:                 3    Pearson chi2:       150.\n",
      "6        Df Residuals:               147           Scale:     1.0000\n",
      "7              Method:              IRLS                            \n",
      "Summary [save_path]:\n",
      " ./models/PP/switch_models\\model_P_treatment___1___previous_treatment___1__for_denominator.pkl\n",
      "Fitted values:\n",
      " 1      0.773567\n",
      "2      0.662908\n",
      "3      0.657722\n",
      "4      0.761187\n",
      "5      0.647238\n",
      "         ...   \n",
      "703    0.641342\n",
      "704    0.507228\n",
      "705    0.501448\n",
      "718    0.560233\n",
      "719    0.554530\n",
      "Length: 151, dtype: float64\n",
      "[[n0]]\n",
      "Model: P(treatment = 1 | previous treatment = 0) for numerator\n",
      "Summary [tidy]:\n",
      "               Coef.  Std.Err.         z     P>|z|    [0.025    0.975]\n",
      "Intercept  1.092123  0.605827  1.802698  0.071436 -0.095276  2.279522\n",
      "age       -0.033604  0.014395 -2.334453  0.019572 -0.061817 -0.005391\n",
      "Summary [glance]:\n",
      "                      0                 1                2          3\n",
      "0               Model:               GLM             AIC:   230.5492\n",
      "1       Link Function:             Logit             BIC:  -636.2650\n",
      "2  Dependent Variable:         treatment  Log-Likelihood:    -113.27\n",
      "3                Date:  2025-03-09 23:59         LL-Null:    -116.14\n",
      "4    No. Observations:               170        Deviance:     226.55\n",
      "5            Df Model:                 1    Pearson chi2:       170.\n",
      "6        Df Residuals:               168           Scale:     1.0000\n",
      "7              Method:              IRLS                            \n",
      "Summary [save_path]:\n",
      " ./models/PP/switch_models\\model_P_treatment___1___previous_treatment___0__for_numerator.pkl\n",
      "Fitted values:\n",
      " 0      0.470628\n",
      "6      0.554388\n",
      "7      0.546072\n",
      "11     0.372649\n",
      "19     0.529368\n",
      "         ...   \n",
      "681    0.380538\n",
      "682    0.372649\n",
      "701    0.470628\n",
      "702    0.257589\n",
      "717    0.251216\n",
      "Length: 170, dtype: float64\n",
      "[[d0]]\n",
      "Model: P(treatment = 1 | previous treatment = 0) for denominator\n",
      "Summary [tidy]:\n",
      "               Coef.  Std.Err.         z     P>|z|    [0.025    0.975]\n",
      "Intercept  1.030847  0.630527  1.634897  0.102071 -0.204964  2.266657\n",
      "age       -0.036333  0.014726 -2.467278  0.013614 -0.065195 -0.007471\n",
      "x1         0.644738  0.323468  1.993201  0.046239  0.010751  1.278724\n",
      "x3        -0.234110  0.321479 -0.728228  0.466474 -0.864198  0.395978\n",
      "Summary [glance]:\n",
      "                      0                 1                2          3\n",
      "0               Model:               GLM             AIC:   230.0600\n",
      "1       Link Function:             Logit             BIC:  -630.4826\n",
      "2  Dependent Variable:         treatment  Log-Likelihood:    -111.03\n",
      "3                Date:  2025-03-09 23:59         LL-Null:    -116.14\n",
      "4    No. Observations:               170        Deviance:     222.06\n",
      "5            Df Model:                 3    Pearson chi2:       171.\n",
      "6        Df Residuals:               166           Scale:     1.0000\n",
      "7              Method:              IRLS                            \n",
      "Summary [save_path]:\n",
      " ./models/PP/switch_models\\model_P_treatment___1___previous_treatment___0__for_denominator.pkl\n",
      "Fitted values:\n",
      " 0      0.590882\n",
      "6      0.675011\n",
      "7      0.666991\n",
      "11     0.279443\n",
      "19     0.436124\n",
      "         ...   \n",
      "681    0.286817\n",
      "682    0.279443\n",
      "701    0.533326\n",
      "702    0.343057\n",
      "717    0.284929\n",
      "Length: 170, dtype: float64\n"
     ]
    }
   ],
   "source": [
    "trial_pp.show_weight_models()"
   ]
  },
  {
   "cell_type": "markdown",
   "metadata": {},
   "source": [
    "## 5. Specify Outcome Model"
   ]
  },
  {
   "cell_type": "code",
   "execution_count": 13,
   "metadata": {},
   "outputs": [],
   "source": [
    "# # Set outcome model for trial_pp with default parameters\n",
    "# trial_pp.set_outcome_model()\n",
    "\n",
    "# # Set outcome model for trial_itt with specified adjustment_terms\n",
    "# trial_itt.set_outcome_model(adjustment_terms=\"x2\")"
   ]
  },
  {
   "cell_type": "markdown",
   "metadata": {},
   "source": [
    "## 6.  Expand Trials"
   ]
  },
  {
   "cell_type": "code",
   "execution_count": 14,
   "metadata": {},
   "outputs": [],
   "source": [
    "trial_pp = trial_pp.set_expansion_options(\n",
    "    output=save_to_datatable(),\n",
    "    chunk_size=500\n",
    ")\n",
    "\n",
    "trial_itt = trial_itt.set_expansion_options(\n",
    "    output=save_to_datatable(),\n",
    "    chunk_size=500\n",
    ")"
   ]
  },
  {
   "cell_type": "code",
   "execution_count": 15,
   "metadata": {},
   "outputs": [],
   "source": [
    "# trial_pp  <- expand_trials(trial_pp)\n",
    "# trial_itt <- expand_trials(trial_itt)\n",
    "\n",
    "# trial_pp@expansion"
   ]
  },
  {
   "cell_type": "markdown",
   "metadata": {},
   "source": [
    "## 7.  Load or Sample from Expanded Data"
   ]
  },
  {
   "cell_type": "code",
   "execution_count": 16,
   "metadata": {},
   "outputs": [],
   "source": [
    "# trial_itt = load_expanded_data(trial_itt, seed=1234, p_control=0.5)"
   ]
  },
  {
   "cell_type": "markdown",
   "metadata": {},
   "source": [
    "## 8. Fit Marginal Structural Model"
   ]
  },
  {
   "cell_type": "code",
   "execution_count": 17,
   "metadata": {},
   "outputs": [],
   "source": [
    "# trial_itt = fit_msm(\n",
    "#     trial_itt,\n",
    "#     weight_cols=[\"weight\", \"sample_weight\"],\n",
    "#     modify_weights=lambda w: w.clip(upper=w.quantile(0.99))  # Winsorization of extreme weights\n",
    "# )\n",
    "\n",
    "# # Accessing the model summary\n",
    "# model_summary = trial_itt.outcome_model\n",
    "\n",
    "# trial_itt@outcome_model@fitted@model$model\n",
    "\n",
    "# trial_itt@outcome_model@fitted@model$vcov\n",
    "\n",
    "# trial_itt"
   ]
  },
  {
   "cell_type": "markdown",
   "metadata": {},
   "source": [
    "## 9. Inference"
   ]
  },
  {
   "cell_type": "code",
   "execution_count": 18,
   "metadata": {},
   "outputs": [],
   "source": [
    "# # Generate predictions\n",
    "# preds = trial_itt.predict(\n",
    "#     newdata=trial_itt.outcome_data[trial_itt.outcome_data['trial_period'] == 1],\n",
    "#     predict_times=np.arange(0, 11),\n",
    "#     type=\"survival\"\n",
    "# )\n",
    "\n",
    "# # Plotting the results\n",
    "# plt.plot(preds['difference']['followup_time'], preds['difference']['survival_diff'], label='Survival Difference', color='blue')\n",
    "# plt.xlabel(\"Follow up\")\n",
    "# plt.ylabel(\"Survival difference\")\n",
    "\n",
    "# # Plot the confidence intervals\n",
    "# plt.plot(preds['difference']['followup_time'], preds['difference']['2.5%'], color='red', linestyle='--', label='2.5% CI')\n",
    "# plt.plot(preds['difference']['followup_time'], preds['difference']['97.5%'], color='red', linestyle='--', label='97.5% CI')\n",
    "\n",
    "# plt.legend()\n",
    "# plt.title(\"Survival Difference with Confidence Intervals\")\n",
    "# plt.show()"
   ]
  }
 ],
 "metadata": {
  "kernelspec": {
   "display_name": "Python 3",
   "language": "python",
   "name": "python3"
  },
  "language_info": {
   "codemirror_mode": {
    "name": "ipython",
    "version": 3
   },
   "file_extension": ".py",
   "mimetype": "text/x-python",
   "name": "python",
   "nbconvert_exporter": "python",
   "pygments_lexer": "ipython3",
   "version": "3.13.2"
  }
 },
 "nbformat": 4,
 "nbformat_minor": 2
}
