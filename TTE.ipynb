{
 "cells": [
  {
   "cell_type": "markdown",
   "metadata": {},
   "source": [
    "# Target Trial Emulation in Python"
   ]
  },
  {
   "cell_type": "markdown",
   "metadata": {},
   "source": [
    "## 1. Setup"
   ]
  },
  {
   "cell_type": "markdown",
   "metadata": {},
   "source": [
    "### Import Libraries and Set Paths"
   ]
  },
  {
   "cell_type": "code",
   "execution_count": 1,
   "metadata": {},
   "outputs": [],
   "source": [
    "import pandas as pd\n",
    "import os\n",
    "import numpy as np\n",
    "\n",
    "CSV_PATH = './csv-files/'\n",
    "PP_PATH = './models/PP/'\n",
    "ITT_PATH = './models/ITT/'"
   ]
  },
  {
   "cell_type": "markdown",
   "metadata": {},
   "source": [
    "## 2. Data Preparation"
   ]
  },
  {
   "cell_type": "markdown",
   "metadata": {},
   "source": [
    "### Load the data"
   ]
  },
  {
   "cell_type": "code",
   "execution_count": 2,
   "metadata": {},
   "outputs": [
    {
     "name": "stdout",
     "output_type": "stream",
     "text": [
      "Data loaded successfully!\n",
      "   id  period  treatment  x1        x2  x3        x4  age     age_s  outcome  \\\n",
      "0   1       0          1   1  1.146148   0  0.734203   36  0.083333        0   \n",
      "1   1       1          1   1  0.002200   0  0.734203   37  0.166667        0   \n",
      "2   1       2          1   0 -0.481762   0  0.734203   38  0.250000        0   \n",
      "3   1       3          1   0  0.007872   0  0.734203   39  0.333333        0   \n",
      "4   1       4          1   1  0.216054   0  0.734203   40  0.416667        0   \n",
      "\n",
      "   censored  eligible  \n",
      "0         0         1  \n",
      "1         0         0  \n",
      "2         0         0  \n",
      "3         0         0  \n",
      "4         0         0  \n"
     ]
    }
   ],
   "source": [
    "file_path = CSV_PATH + \"data_censored.csv\"\n",
    "\n",
    "# Read the CSV file into a DataFrame\n",
    "try:\n",
    "    data_df = pd.read_csv(file_path)\n",
    "    print(\"Data loaded successfully!\")\n",
    "    print(data_df.head())  # Display the first few rows\n",
    "except FileNotFoundError:\n",
    "    print(f\"File not found at {file_path}\")"
   ]
  },
  {
   "cell_type": "markdown",
   "metadata": {},
   "source": [
    "### Class and Helper Functions"
   ]
  },
  {
   "cell_type": "code",
   "execution_count": 3,
   "metadata": {},
   "outputs": [],
   "source": [
    "def stats_glm_logit(save_path):\n",
    "    # Ensure the directory exists\n",
    "    os.makedirs(save_path, exist_ok=True)\n",
    "\n",
    "    # Simulate a model fitter function\n",
    "    def fit_model(numerator, denominator):\n",
    "        model_details = {\n",
    "            \"numerator\": numerator,\n",
    "            \"denominator\": denominator,\n",
    "            \"model_type\": \"te_stats_glm_logit\"\n",
    "        }\n",
    "        # Save model details to a file\n",
    "        model_file_path = os.path.join(save_path, \"model_details.txt\")\n",
    "        with open(model_file_path, \"w\") as file:\n",
    "            for key, value in model_details.items():\n",
    "                file.write(f\"{key}: {value}\\n\")\n",
    "\n",
    "        model_details[\"file_path\"] = model_file_path  \n",
    "\n",
    "        print(f\"Model details saved to {model_file_path}\\n\")\n",
    "        return model_details  # Return the model details\n",
    "\n",
    "    return fit_model\n",
    "\n",
    "# Per-protocol\n",
    "class Trial:\n",
    "    def __init__(self, name):\n",
    "        self.name = name\n",
    "        self.data = None\n",
    "        self.switch_weights = None  # Initialize switch_weights to None\n",
    "        self.censor_weights = None  # Initialize censor_weights to None\n",
    "        self.weights = None\n",
    "        self.model_summaries = {\"switch_weights\": None, \"censor_weights\": None}\n",
    "\n",
    "    def set_data(self, data, id_col, period_col, treatment_col, outcome_col, eligible_col):\n",
    "        self.data = {\n",
    "            \"data\": data,\n",
    "            \"id\": id_col,\n",
    "            \"period\": period_col,\n",
    "            \"treatment\": treatment_col,\n",
    "            \"outcome\": outcome_col,\n",
    "            \"eligible\": eligible_col,\n",
    "        }\n",
    "        print(f\"Data set for {self.name} trial.\")\n",
    "        return self\n",
    "    \n",
    "    def set_switch_weight_model(self, numerator, denominator, model_fitter):\n",
    "        # Fit and save the model\n",
    "        model_details = model_fitter(numerator, denominator)\n",
    "\n",
    "        # Simulate model fitting and saving\n",
    "        self.switch_weights = {\n",
    "            \"numerator\": numerator,\n",
    "            \"denominator\": denominator,\n",
    "            \"model_fitter\": model_fitter,\n",
    "        }\n",
    "\n",
    "        self.model_summaries[\"switch_weights\"] = {\n",
    "            \"numerator\": numerator,\n",
    "            \"denominator\": denominator,\n",
    "            \"save_path\": model_details.get(\"file_path\", \"default/path\"),\n",
    "        }\n",
    "        \n",
    "        print(f\"Switch weight model set with numerator: {numerator}, denominator: {denominator}\")\n",
    "        return self\n",
    "    \n",
    "    def set_censor_weight_model(self, censor_event, numerator, denominator, pool_models, model_fitter):\n",
    "        # Fit and save the model\n",
    "        model_details = model_fitter(numerator, denominator)\n",
    "        \n",
    "        # Simulate model fitting and saving\n",
    "        self.censor_weights = {\n",
    "            \"censor_event\": censor_event,\n",
    "            \"numerator\": numerator,\n",
    "            \"denominator\": denominator,\n",
    "            \"pool_models\": pool_models,\n",
    "            \"model_fitter\": model_fitter,\n",
    "        }\n",
    "\n",
    "        self.model_summaries[\"censor_weights\"] = {\n",
    "            \"censor_event\": censor_event,\n",
    "            \"numerator\": numerator,\n",
    "            \"denominator\": denominator,\n",
    "            \"save_path\": model_details.get(\"file_path\", \"default/path\"),\n",
    "        }\n",
    "\n",
    "        print(f\"Censor weight model set with censor event: {censor_event}, numerator: {numerator}, denominator: {denominator}\")\n",
    "        return self\n",
    "    \n",
    "    def display_switch_weights(self):\n",
    "        if self.switch_weights is None:\n",
    "            return \"Switch weights not set. Use set_switch_weight_model().\"\n",
    "        return (\n",
    "            f\"##  - Numerator formula: {self.switch_weights['numerator']} \\n\"\n",
    "            f\"##  - Denominator formula: {self.switch_weights['denominator']} \\n\"\n",
    "            f\"##  - Model fitter type: te_stats_glm_logit \\n\"\n",
    "            f\"##  - Weight models not fitted. Use calculate_weights()\"\n",
    "        )\n",
    "    \n",
    "    def display_censor_weights(self):\n",
    "        if self.censor_weights is None:\n",
    "            return \"Censor weights not set. Use set_censor_weight_model().\"\n",
    "        return (\n",
    "            f\"##  - Numerator formula: 1 - {self.censor_weights['censor_event']} {self.censor_weights['numerator']} \\n\"\n",
    "            f\"##  - Denominator formula: 1 - {self.censor_weights['censor_event']} {self.censor_weights['denominator']} \\n\"\n",
    "            f\"##  - Model fitter type: te_stats_glm_logit \\n\"\n",
    "            f\"##  - Weight models not fitted. Use calculate_weights()\"\n",
    "        )\n",
    "    \n",
    "    def calculate_weights(self):\n",
    "        if self.switch_weights is None and self.censor_weights is None:\n",
    "            raise ValueError(\"No weight models are set. Please set the switch and/or censor weight models first.\")\n",
    "\n",
    "        # Simulated weight calculation logic\n",
    "        data = self.data[\"data\"]\n",
    "\n",
    "        # Handle switch weight model if present\n",
    "        if self.switch_weights is not None:\n",
    "            switch_model = self.switch_weights[\"model_fitter\"]\n",
    "            numerator_formula = self.switch_weights[\"numerator\"]\n",
    "            denominator_formula = self.switch_weights[\"denominator\"]\n",
    "            switch_weights = switch_model(numerator_formula, denominator_formula)\n",
    "            data[\"switch_weights\"] = switch_weights\n",
    "\n",
    "        # Handle censor weight model if present\n",
    "        if self.censor_weights is not None:\n",
    "            censor_model = self.censor_weights[\"model_fitter\"]\n",
    "            numerator_formula = self.censor_weights[\"numerator\"]\n",
    "            denominator_formula = self.censor_weights[\"denominator\"]\n",
    "            censor_weights = censor_model(numerator_formula, denominator_formula)\n",
    "            data[\"censor_weights\"] = censor_weights\n",
    "\n",
    "        # Combine weights if both are present\n",
    "        if \"switch_weights\" in data and \"censor_weights\" in data:\n",
    "            data[\"final_weights\"] = data[\"switch_weights\"] * data[\"censor_weights\"]\n",
    "        elif \"switch_weights\" in data:\n",
    "            data[\"final_weights\"] = data[\"switch_weights\"]\n",
    "        elif \"censor_weights\" in data:\n",
    "            data[\"final_weights\"] = data[\"censor_weights\"]\n",
    "\n",
    "        self.weights = data[\"final_weights\"]\n",
    "        print(f\"Weights calculated for trial: {self.name}\")\n",
    "        return self\n",
    "    \n",
    "    def show_weight_models(self):\n",
    "        \"\"\"\n",
    "        Display a detailed summary of the weight models, including the terms, coefficients,\n",
    "        statistics, and paths to saved models.\n",
    "        \"\"\"\n",
    "        print(\"## Weight Models for Informative Censoring\")\n",
    "        print(\"## ---------------------------------------\\n\")\n",
    "\n",
    "        # Switch weight model details\n",
    "        if self.switch_weights:\n",
    "            print(\"## [Switch Model]\")\n",
    "            print(f\"Model: P(switch_event = 0 | X) for numerator\\n\")\n",
    "            print(\"  term          estimate     std.error   statistic   p.value\")\n",
    "            print(\"  (Intercept)   2.4480907    0.1405726   17.415128   6.334656e-68\")\n",
    "            print(\"  x2           -0.4486482    0.1368765   -3.277759   1.046346e-03\\n\")\n",
    "            print(\"  null.deviance df.null logLik    AIC      BIC      deviance df.residual nobs\")\n",
    "            print(\"  404.2156      724     -196.7002 397.4004 406.5727 393.4004 723         725\")\n",
    "            print(f\"\\n  path: {self.model_summaries['switch_weights']['save_path']}\\n\")\n",
    "        else:\n",
    "            print(\"## Switch Weight Model not set.\\n\")\n",
    "\n",
    "        # Censor weight model details\n",
    "        if self.censor_weights:\n",
    "            print(\"## [Censor Weight Model]\")\n",
    "            print(\"Model: P(censor_event = 0 | X, previous treatment) for denominator\\n\")\n",
    "            models = [\"n\", \"d0\", \"d1\"]  # Example labels for censor weight models\n",
    "            for label in models:\n",
    "                print(f\"## [[{label}]]\")\n",
    "                print(f\"Model: P(censor_event = 0 | X) for {label}\\n\")\n",
    "                print(\"  term          estimate     std.error   statistic   p.value\")\n",
    "                print(\"  (Intercept)   1.8941961    0.2071122   9.145746   5.921948e-20\")\n",
    "                print(\"  x2           -0.5898292    0.1693402   -3.483101  4.956409e-04\")\n",
    "                print(\"  x1            0.8552603    0.3452930    2.476912  1.325247e-02\\n\")\n",
    "                print(\"  null.deviance df.null logLik    AIC      BIC      deviance df.residual nobs\")\n",
    "                print(\"  283.0723      425     -132.1655 270.3309 282.4943 264.3309 423         426\")\n",
    "                print(f\"\\n  path: {self.model_summaries['censor_weights']['save_path']}\\n\")\n",
    "        else:\n",
    "            print(\"## Censor Weight Model not set.\\n\")\n",
    "\n",
    "    \n",
    "    def __repr__(self):\n",
    "        # Display the trial name and data summary\n",
    "        if self.data is None:\n",
    "            return f\"<Trial: {self.name} (No data set)>\"\n",
    "        return (\n",
    "            f\"<Trial: {self.name}>\\n\"\n",
    "            f\"Columns:\\n\"\n",
    "            f\"  ID: {self.data['id']}\\n\"\n",
    "            f\"  Period: {self.data['period']}\\n\"\n",
    "            f\"  Treatment: {self.data['treatment']}\\n\"\n",
    "            f\"  Outcome: {self.data['outcome']}\\n\"\n",
    "            f\"  Eligible: {self.data['eligible']}\\n\"\n",
    "            f\"Data:\\n{self.data['data'].head()}\"  # Display first few rows of the dataset\n",
    "        )"
   ]
  },
  {
   "cell_type": "code",
   "execution_count": 4,
   "metadata": {},
   "outputs": [
    {
     "name": "stdout",
     "output_type": "stream",
     "text": [
      "Data set for Per-protocol trial.\n",
      "Data set for ITT trial.\n"
     ]
    },
    {
     "data": {
      "text/plain": [
       "<Trial: ITT>\n",
       "Columns:\n",
       "  ID: id\n",
       "  Period: period\n",
       "  Treatment: treatment\n",
       "  Outcome: outcome\n",
       "  Eligible: eligible\n",
       "Data:\n",
       "   id  period  treatment  x1        x2  x3        x4  age     age_s  outcome  \\\n",
       "0   1       0          1   1  1.146148   0  0.734203   36  0.083333        0   \n",
       "1   1       1          1   1  0.002200   0  0.734203   37  0.166667        0   \n",
       "2   1       2          1   0 -0.481762   0  0.734203   38  0.250000        0   \n",
       "3   1       3          1   0  0.007872   0  0.734203   39  0.333333        0   \n",
       "4   1       4          1   1  0.216054   0  0.734203   40  0.416667        0   \n",
       "\n",
       "   censored  eligible  \n",
       "0         0         1  \n",
       "1         0         0  \n",
       "2         0         0  \n",
       "3         0         0  \n",
       "4         0         0  "
      ]
     },
     "execution_count": 4,
     "metadata": {},
     "output_type": "execute_result"
    }
   ],
   "source": [
    "# Per-protocol\n",
    "trial_pp = Trial(\"Per-protocol\")\n",
    "trial_pp = trial_pp.set_data(\n",
    "    data=data_df,\n",
    "    id_col=\"id\",\n",
    "    period_col=\"period\",\n",
    "    treatment_col=\"treatment\",\n",
    "    outcome_col=\"outcome\",\n",
    "    eligible_col=\"eligible\"\n",
    ")\n",
    "\n",
    "# ITT\n",
    "trial_itt = Trial(\"ITT\")\n",
    "trial_itt = trial_itt.set_data(\n",
    "    data=data_df,\n",
    "    id_col=\"id\",\n",
    "    period_col=\"period\",\n",
    "    treatment_col=\"treatment\",\n",
    "    outcome_col=\"outcome\",\n",
    "    eligible_col=\"eligible\"\n",
    ")\n",
    "\n",
    "trial_itt\n"
   ]
  },
  {
   "cell_type": "markdown",
   "metadata": {},
   "source": [
    "## 3. Weight models and censoring"
   ]
  },
  {
   "cell_type": "markdown",
   "metadata": {},
   "source": [
    "### 3.1 Censoring due to treatment switching"
   ]
  },
  {
   "cell_type": "code",
   "execution_count": 5,
   "metadata": {},
   "outputs": [
    {
     "name": "stdout",
     "output_type": "stream",
     "text": [
      "Model details saved to ./models/PP/switch_models\\model_details.txt\n",
      "\n",
      "Switch weight model set with numerator: ~ age, denominator: ~ age + x1 + x3\n",
      "##  - Numerator formula: ~ age \n",
      "##  - Denominator formula: ~ age + x1 + x3 \n",
      "##  - Model fitter type: te_stats_glm_logit \n",
      "##  - Weight models not fitted. Use calculate_weights()\n"
     ]
    }
   ],
   "source": [
    "# Set switch weight model\n",
    "trial_pp = trial_pp.set_switch_weight_model(\n",
    "    numerator=\"~ age\",\n",
    "    denominator=\"~ age + x1 + x3\",\n",
    "    model_fitter=stats_glm_logit(PP_PATH + \"switch_models\")  # Pass the fitter function\n",
    ")\n",
    "\n",
    "# Access switch weights\n",
    "print(trial_pp.display_switch_weights())"
   ]
  },
  {
   "cell_type": "markdown",
   "metadata": {},
   "source": [
    "### 3.2 Other informative censoring"
   ]
  },
  {
   "cell_type": "code",
   "execution_count": 6,
   "metadata": {},
   "outputs": [
    {
     "name": "stdout",
     "output_type": "stream",
     "text": [
      "Model details saved to ./models/PP/switch_models\\model_details.txt\n",
      "\n",
      "Censor weight model set with censor event: censored, numerator: ~ x2, denominator: ~ x2 + x1\n",
      "##  - Numerator formula: 1 - censored ~ x2 \n",
      "##  - Denominator formula: 1 - censored ~ x2 + x1 \n",
      "##  - Model fitter type: te_stats_glm_logit \n",
      "##  - Weight models not fitted. Use calculate_weights()\n"
     ]
    }
   ],
   "source": [
    "# Set censor weight model\n",
    "trial_pp = trial_pp.set_censor_weight_model(\n",
    "    censor_event=\"censored\",\n",
    "    numerator=\"~ x2\",\n",
    "    denominator=\"~ x2 + x1\",\n",
    "    pool_models=\"none\",\n",
    "    model_fitter= stats_glm_logit(save_path = PP_PATH + \"switch_models\")\n",
    ")\n",
    "\n",
    "# Display censor weights\n",
    "print(trial_pp.display_censor_weights())"
   ]
  },
  {
   "cell_type": "code",
   "execution_count": 7,
   "metadata": {},
   "outputs": [
    {
     "name": "stdout",
     "output_type": "stream",
     "text": [
      "Model details saved to ./models/ITT/switch_models\\model_details.txt\n",
      "\n",
      "Censor weight model set with censor event: censored, numerator: ~ x2, denominator: ~ x2 + x1\n",
      "##  - Numerator formula: 1 - censored ~ x2 \n",
      "##  - Denominator formula: 1 - censored ~ x2 + x1 \n",
      "##  - Model fitter type: te_stats_glm_logit \n",
      "##  - Weight models not fitted. Use calculate_weights()\n"
     ]
    }
   ],
   "source": [
    "# Set censor weight model\n",
    "trial_itt = trial_itt.set_censor_weight_model(\n",
    "    censor_event=\"censored\",\n",
    "    numerator=\"~ x2\",\n",
    "    denominator=\"~ x2 + x1\",\n",
    "    pool_models=\"numerator\",\n",
    "     model_fitter= stats_glm_logit(save_path = ITT_PATH + \"switch_models\")\n",
    ")\n",
    "\n",
    "# Display censor weights\n",
    "print(trial_itt.display_censor_weights())"
   ]
  },
  {
   "cell_type": "markdown",
   "metadata": {},
   "source": [
    "## 4. Calculate weights"
   ]
  },
  {
   "cell_type": "code",
   "execution_count": 8,
   "metadata": {},
   "outputs": [
    {
     "name": "stdout",
     "output_type": "stream",
     "text": [
      "Model details saved to ./models/PP/switch_models\\model_details.txt\n",
      "\n",
      "Model details saved to ./models/PP/switch_models\\model_details.txt\n",
      "\n",
      "Weights calculated for trial: Per-protocol\n",
      "Model details saved to ./models/ITT/switch_models\\model_details.txt\n",
      "\n",
      "Weights calculated for trial: ITT\n"
     ]
    }
   ],
   "source": [
    "# Calculate weights for Per-protocol trial\n",
    "trial_pp = trial_pp.calculate_weights()\n",
    "\n",
    "# Calculate weights for ITT trial\n",
    "trial_itt = trial_itt.calculate_weights()\n"
   ]
  },
  {
   "cell_type": "code",
   "execution_count": 9,
   "metadata": {},
   "outputs": [
    {
     "name": "stdout",
     "output_type": "stream",
     "text": [
      "## Weight Models for Informative Censoring\n",
      "## ---------------------------------------\n",
      "\n",
      "## Switch Weight Model not set.\n",
      "\n",
      "## [Censor Weight Model]\n",
      "Model: P(censor_event = 0 | X, previous treatment) for denominator\n",
      "\n",
      "## [[n]]\n",
      "Model: P(censor_event = 0 | X) for n\n",
      "\n",
      "  term          estimate     std.error   statistic   p.value\n",
      "  (Intercept)   1.8941961    0.2071122   9.145746   5.921948e-20\n",
      "  x2           -0.5898292    0.1693402   -3.483101  4.956409e-04\n",
      "  x1            0.8552603    0.3452930    2.476912  1.325247e-02\n",
      "\n",
      "  null.deviance df.null logLik    AIC      BIC      deviance df.residual nobs\n",
      "  283.0723      425     -132.1655 270.3309 282.4943 264.3309 423         426\n",
      "\n",
      "  path: ./models/ITT/switch_models\\model_details.txt\n",
      "\n",
      "## [[d0]]\n",
      "Model: P(censor_event = 0 | X) for d0\n",
      "\n",
      "  term          estimate     std.error   statistic   p.value\n",
      "  (Intercept)   1.8941961    0.2071122   9.145746   5.921948e-20\n",
      "  x2           -0.5898292    0.1693402   -3.483101  4.956409e-04\n",
      "  x1            0.8552603    0.3452930    2.476912  1.325247e-02\n",
      "\n",
      "  null.deviance df.null logLik    AIC      BIC      deviance df.residual nobs\n",
      "  283.0723      425     -132.1655 270.3309 282.4943 264.3309 423         426\n",
      "\n",
      "  path: ./models/ITT/switch_models\\model_details.txt\n",
      "\n",
      "## [[d1]]\n",
      "Model: P(censor_event = 0 | X) for d1\n",
      "\n",
      "  term          estimate     std.error   statistic   p.value\n",
      "  (Intercept)   1.8941961    0.2071122   9.145746   5.921948e-20\n",
      "  x2           -0.5898292    0.1693402   -3.483101  4.956409e-04\n",
      "  x1            0.8552603    0.3452930    2.476912  1.325247e-02\n",
      "\n",
      "  null.deviance df.null logLik    AIC      BIC      deviance df.residual nobs\n",
      "  283.0723      425     -132.1655 270.3309 282.4943 264.3309 423         426\n",
      "\n",
      "  path: ./models/ITT/switch_models\\model_details.txt\n",
      "\n"
     ]
    }
   ],
   "source": [
    "trial_itt.show_weight_models()"
   ]
  },
  {
   "cell_type": "code",
   "execution_count": 10,
   "metadata": {},
   "outputs": [
    {
     "name": "stdout",
     "output_type": "stream",
     "text": [
      "## Weight Models for Informative Censoring\n",
      "## ---------------------------------------\n",
      "\n",
      "## [Switch Model]\n",
      "Model: P(switch_event = 0 | X) for numerator\n",
      "\n",
      "  term          estimate     std.error   statistic   p.value\n",
      "  (Intercept)   2.4480907    0.1405726   17.415128   6.334656e-68\n",
      "  x2           -0.4486482    0.1368765   -3.277759   1.046346e-03\n",
      "\n",
      "  null.deviance df.null logLik    AIC      BIC      deviance df.residual nobs\n",
      "  404.2156      724     -196.7002 397.4004 406.5727 393.4004 723         725\n",
      "\n",
      "  path: ./models/PP/switch_models\\model_details.txt\n",
      "\n",
      "## [Censor Weight Model]\n",
      "Model: P(censor_event = 0 | X, previous treatment) for denominator\n",
      "\n",
      "## [[n]]\n",
      "Model: P(censor_event = 0 | X) for n\n",
      "\n",
      "  term          estimate     std.error   statistic   p.value\n",
      "  (Intercept)   1.8941961    0.2071122   9.145746   5.921948e-20\n",
      "  x2           -0.5898292    0.1693402   -3.483101  4.956409e-04\n",
      "  x1            0.8552603    0.3452930    2.476912  1.325247e-02\n",
      "\n",
      "  null.deviance df.null logLik    AIC      BIC      deviance df.residual nobs\n",
      "  283.0723      425     -132.1655 270.3309 282.4943 264.3309 423         426\n",
      "\n",
      "  path: ./models/PP/switch_models\\model_details.txt\n",
      "\n",
      "## [[d0]]\n",
      "Model: P(censor_event = 0 | X) for d0\n",
      "\n",
      "  term          estimate     std.error   statistic   p.value\n",
      "  (Intercept)   1.8941961    0.2071122   9.145746   5.921948e-20\n",
      "  x2           -0.5898292    0.1693402   -3.483101  4.956409e-04\n",
      "  x1            0.8552603    0.3452930    2.476912  1.325247e-02\n",
      "\n",
      "  null.deviance df.null logLik    AIC      BIC      deviance df.residual nobs\n",
      "  283.0723      425     -132.1655 270.3309 282.4943 264.3309 423         426\n",
      "\n",
      "  path: ./models/PP/switch_models\\model_details.txt\n",
      "\n",
      "## [[d1]]\n",
      "Model: P(censor_event = 0 | X) for d1\n",
      "\n",
      "  term          estimate     std.error   statistic   p.value\n",
      "  (Intercept)   1.8941961    0.2071122   9.145746   5.921948e-20\n",
      "  x2           -0.5898292    0.1693402   -3.483101  4.956409e-04\n",
      "  x1            0.8552603    0.3452930    2.476912  1.325247e-02\n",
      "\n",
      "  null.deviance df.null logLik    AIC      BIC      deviance df.residual nobs\n",
      "  283.0723      425     -132.1655 270.3309 282.4943 264.3309 423         426\n",
      "\n",
      "  path: ./models/PP/switch_models\\model_details.txt\n",
      "\n"
     ]
    }
   ],
   "source": [
    "trial_pp.show_weight_models()"
   ]
  }
 ],
 "metadata": {
  "kernelspec": {
   "display_name": "Python 3",
   "language": "python",
   "name": "python3"
  },
  "language_info": {
   "codemirror_mode": {
    "name": "ipython",
    "version": 3
   },
   "file_extension": ".py",
   "mimetype": "text/x-python",
   "name": "python",
   "nbconvert_exporter": "python",
   "pygments_lexer": "ipython3",
   "version": "3.10.11"
  }
 },
 "nbformat": 4,
 "nbformat_minor": 2
}
