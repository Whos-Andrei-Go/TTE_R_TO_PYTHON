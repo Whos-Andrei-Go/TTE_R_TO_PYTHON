{
 "cells": [
  {
   "cell_type": "markdown",
   "metadata": {},
   "source": [
    "# **Target Trial Emulation in Python**"
   ]
  },
  {
   "cell_type": "markdown",
   "metadata": {},
   "source": [
    "## A. Setup"
   ]
  },
  {
   "cell_type": "markdown",
   "metadata": {},
   "source": [
    "### I. Library and Paths Setup"
   ]
  },
  {
   "cell_type": "code",
   "execution_count": 1,
   "metadata": {},
   "outputs": [],
   "source": [
    "import pandas as pd\n",
    "import os\n",
    "import numpy as np\n",
    "\n",
    "# Add working directory to path\n",
    "import sys\n",
    "cwd = os.getcwd()\n",
    "if cwd not in sys.path:\n",
    "    sys.path.append(cwd)\n",
    "\n",
    "\n",
    "from custom_modules.trialemulation import trial_sequence as ts\n",
    "\n",
    "CSV_PATH = './csv_files/'\n",
    "PP_PATH = './models/PP/'\n",
    "ITT_PATH = './models/ITT/'\n",
    "SCRIPT_PATH = os.getcwd()\n",
    "\n",
    "# Set pandas display options to prevent wrapping\n",
    "pd.set_option('display.width', 1000)  # Adjust width to fit your terminal\n",
    "pd.set_option('display.max_columns', None)  # Show all columns"
   ]
  },
  {
   "cell_type": "markdown",
   "metadata": {},
   "source": [
    "### II. Specify estimands"
   ]
  },
  {
   "cell_type": "code",
   "execution_count": 2,
   "metadata": {},
   "outputs": [],
   "source": [
    "# Create instances\n",
    "trial_pp = ts.TrialSequencePP()\n",
    "trial_itt = ts.TrialSequenceITT()"
   ]
  },
  {
   "cell_type": "markdown",
   "metadata": {},
   "source": [
    "### III. Create directories"
   ]
  },
  {
   "cell_type": "code",
   "execution_count": 3,
   "metadata": {},
   "outputs": [],
   "source": [
    "trial_pp_dir = os.path.join(os.getcwd(), \"trial_pp\")\n",
    "os.makedirs(trial_pp_dir, exist_ok=True)\n",
    "\n",
    "trial_itt_dir = os.path.join(os.getcwd(), \"trial_itt\")\n",
    "os.makedirs(trial_itt_dir, exist_ok=True)"
   ]
  },
  {
   "cell_type": "markdown",
   "metadata": {},
   "source": [
    "## B. Data Preparation"
   ]
  },
  {
   "cell_type": "markdown",
   "metadata": {},
   "source": [
    "### I. Load the data"
   ]
  },
  {
   "cell_type": "code",
   "execution_count": 4,
   "metadata": {},
   "outputs": [
    {
     "name": "stdout",
     "output_type": "stream",
     "text": [
      "Data loaded successfully!\n",
      "   id  period  treatment  x1        x2  x3        x4  age     age_s  outcome  censored  eligible\n",
      "0   1       0          1   1  1.146148   0  0.734203   36  0.083333        0         0         1\n",
      "1   1       1          1   1  0.002200   0  0.734203   37  0.166667        0         0         0\n",
      "2   1       2          1   0 -0.481762   0  0.734203   38  0.250000        0         0         0\n",
      "3   1       3          1   0  0.007872   0  0.734203   39  0.333333        0         0         0\n",
      "4   1       4          1   1  0.216054   0  0.734203   40  0.416667        0         0         0\n"
     ]
    }
   ],
   "source": [
    "file_path = os.path.join(CSV_PATH, \"data_censored.csv\")\n",
    "\n",
    "# Read the CSV file into a DataFrame\n",
    "try:\n",
    "    data_censored = pd.read_csv(file_path)\n",
    "    print(\"Data loaded successfully!\")\n",
    "    print(data_censored.head())  # Display the first few rows\n",
    "except FileNotFoundError:\n",
    "    print(f\"File not found at {file_path}\")"
   ]
  },
  {
   "cell_type": "markdown",
   "metadata": {},
   "source": [
    "### II. Set the data"
   ]
  },
  {
   "cell_type": "code",
   "execution_count": 5,
   "metadata": {},
   "outputs": [],
   "source": [
    "trial_pp.set_data(data_censored)\n",
    "trial_itt.set_data(data_censored)"
   ]
  },
  {
   "cell_type": "code",
   "execution_count": 6,
   "metadata": {},
   "outputs": [
    {
     "name": "stdout",
     "output_type": "stream",
     "text": [
      "Trial Sequence Object\n",
      "Estimand: Intention-to-treat\n",
      "\n",
      "Data:\n",
      "     id  period  treatment  x1        x2  x3        x4  age     age_s  outcome  censored  eligible  time_of_event  am_1  switch  regime_start  time_on_regime  cumA  eligible0  eligible1\n",
      "0     1       0          1   1  1.146148   0  0.734203   36  0.083333        0         0         1           9999     0       1           0.0             0.0     1          1          0\n",
      "1     1       1          1   1  0.002200   0  0.734203   37  0.166667        0         0         0           9999     1       0           0.0             1.0     2          0          1\n",
      "2     1       2          1   0 -0.481762   0  0.734203   38  0.250000        0         0         0           9999     1       0           0.0             2.0     3          0          1\n",
      "3     1       3          1   0  0.007872   0  0.734203   39  0.333333        0         0         0           9999     1       0           0.0             3.0     4          0          1\n",
      "4     1       4          1   1  0.216054   0  0.734203   40  0.416667        0         0         0           9999     1       0           0.0             4.0     5          0          1\n",
      "..   ..     ...        ...  ..       ...  ..       ...  ...       ...      ...       ...       ...            ...   ...     ...           ...             ...   ...        ...        ...\n",
      "720  99       3          0   0 -0.747906   1  0.575268   68  2.750000        0         0         0            724     0       0           2.0             1.0     2          1          0\n",
      "721  99       4          0   0 -0.790056   1  0.575268   69  2.833333        0         0         0            724     0       0           2.0             2.0     2          1          0\n",
      "722  99       5          1   1  0.387429   1  0.575268   70  2.916667        0         0         0            724     0       1           5.0             3.0     3          1          0\n",
      "723  99       6          1   1 -0.033762   1  0.575268   71  3.000000        0         0         0            724     1       0           5.0             1.0     4          0          1\n",
      "724  99       7          0   0 -1.340497   1  0.575268   72  3.083333        1         0         0            724     1       1           7.0             2.0     4          0          1\n",
      "\n",
      "[725 rows x 20 columns]\n",
      "\n",
      "IPW for informative censoring:\n",
      "Not set\n",
      "\n",
      "Outcome model:\n",
      "Not set\n",
      "\n",
      "Expansion options:\n",
      "Sequence of Trials Data:\n",
      "- Use set_expansion_options() and expand_trials() to construct the sequence of trials dataset.\n"
     ]
    }
   ],
   "source": [
    "trial_itt.show()"
   ]
  },
  {
   "cell_type": "markdown",
   "metadata": {},
   "source": [
    "## 3. Weight models and censoring"
   ]
  },
  {
   "cell_type": "markdown",
   "metadata": {},
   "source": [
    "### 3.1 Censoring due to treatment switching"
   ]
  },
  {
   "cell_type": "code",
   "execution_count": 7,
   "metadata": {},
   "outputs": [
    {
     "ename": "NameError",
     "evalue": "name 'stats_glm_logit' is not defined",
     "output_type": "error",
     "traceback": [
      "\u001b[31m---------------------------------------------------------------------------\u001b[39m",
      "\u001b[31mNameError\u001b[39m                                 Traceback (most recent call last)",
      "\u001b[36mCell\u001b[39m\u001b[36m \u001b[39m\u001b[32mIn[7]\u001b[39m\u001b[32m, line 5\u001b[39m\n\u001b[32m      1\u001b[39m \u001b[38;5;66;03m# Set switch weight model\u001b[39;00m\n\u001b[32m      2\u001b[39m trial_pp = trial_pp.set_switch_weight_model(\n\u001b[32m      3\u001b[39m     numerator=\u001b[33m\"\u001b[39m\u001b[33m~ age\u001b[39m\u001b[33m\"\u001b[39m,\n\u001b[32m      4\u001b[39m     denominator=\u001b[33m\"\u001b[39m\u001b[33m~ age + x1 + x3\u001b[39m\u001b[33m\"\u001b[39m,\n\u001b[32m----> \u001b[39m\u001b[32m5\u001b[39m     model_fitter=\u001b[43mstats_glm_logit\u001b[49m(PP_PATH + \u001b[33m\"\u001b[39m\u001b[33mswitch_models\u001b[39m\u001b[33m\"\u001b[39m)  \u001b[38;5;66;03m# Pass the fitter function\u001b[39;00m\n\u001b[32m      6\u001b[39m )\n\u001b[32m      8\u001b[39m \u001b[38;5;66;03m# Access switch weights\u001b[39;00m\n\u001b[32m      9\u001b[39m \u001b[38;5;28mprint\u001b[39m(trial_pp.display_switch_weights())\n",
      "\u001b[31mNameError\u001b[39m: name 'stats_glm_logit' is not defined"
     ]
    }
   ],
   "source": [
    "# Set switch weight model\n",
    "trial_pp = trial_pp.set_switch_weight_model(\n",
    "    numerator=\"~ age\",\n",
    "    denominator=\"~ age + x1 + x3\",\n",
    "    model_fitter=stats_glm_logit(PP_PATH + \"switch_models\")  # Pass the fitter function\n",
    ")\n",
    "\n",
    "# Access switch weights\n",
    "print(trial_pp.display_switch_weights())"
   ]
  },
  {
   "cell_type": "markdown",
   "metadata": {},
   "source": [
    "### 3.2 Other informative censoring"
   ]
  },
  {
   "cell_type": "code",
   "execution_count": null,
   "metadata": {},
   "outputs": [],
   "source": [
    "# Set censor weight model\n",
    "trial_pp = trial_pp.set_censor_weight_model(\n",
    "    censor_event=\"censored\",\n",
    "    numerator=\"~ x2\",\n",
    "    denominator=\"~ x2 + x1\",\n",
    "    pool_models=\"none\",\n",
    "    model_fitter= stats_glm_logit(save_path = PP_PATH + \"switch_models\")\n",
    ")\n",
    "\n",
    "# Display censor weights\n",
    "print(trial_pp.display_censor_weights())"
   ]
  },
  {
   "cell_type": "code",
   "execution_count": null,
   "metadata": {},
   "outputs": [],
   "source": [
    "# Set censor weight model\n",
    "trial_itt = trial_itt.set_censor_weight_model(\n",
    "    censor_event=\"censored\",\n",
    "    numerator=\"~ x2\",\n",
    "    denominator=\"~ x2 + x1\",\n",
    "    pool_models=\"numerator\",\n",
    "     model_fitter= stats_glm_logit(save_path = ITT_PATH + \"switch_models\")\n",
    ")\n",
    "\n",
    "# Display censor weights\n",
    "print(trial_itt.display_censor_weights())"
   ]
  },
  {
   "cell_type": "markdown",
   "metadata": {},
   "source": [
    "## 4. Calculate weights"
   ]
  },
  {
   "cell_type": "code",
   "execution_count": null,
   "metadata": {},
   "outputs": [],
   "source": [
    "# Calculate weights for Per-protocol trial\n",
    "trial_pp = trial_pp.calculate_weights()\n",
    "\n",
    "# Calculate weights for ITT trial\n",
    "trial_itt = trial_itt.calculate_weights()\n"
   ]
  },
  {
   "cell_type": "code",
   "execution_count": null,
   "metadata": {},
   "outputs": [],
   "source": [
    "trial_itt.show_weight_models()"
   ]
  },
  {
   "cell_type": "code",
   "execution_count": null,
   "metadata": {},
   "outputs": [],
   "source": [
    "trial_pp.show_weight_models()"
   ]
  }
 ],
 "metadata": {
  "kernelspec": {
   "display_name": "Python 3",
   "language": "python",
   "name": "python3"
  },
  "language_info": {
   "codemirror_mode": {
    "name": "ipython",
    "version": 3
   },
   "file_extension": ".py",
   "mimetype": "text/x-python",
   "name": "python",
   "nbconvert_exporter": "python",
   "pygments_lexer": "ipython3",
   "version": "3.13.2"
  }
 },
 "nbformat": 4,
 "nbformat_minor": 2
}
