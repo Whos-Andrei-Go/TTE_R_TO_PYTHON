{
 "cells": [
  {
   "cell_type": "markdown",
   "metadata": {},
   "source": [
    "# **Target Trial Emulation in Python**"
   ]
  },
  {
   "cell_type": "markdown",
   "metadata": {},
   "source": [
    "## 1. Setup"
   ]
  },
  {
   "cell_type": "markdown",
   "metadata": {},
   "source": [
    "### a. Library and Paths Setup"
   ]
  },
  {
   "cell_type": "code",
   "execution_count": 1,
   "metadata": {},
   "outputs": [],
   "source": [
    "import pandas as pd\n",
    "import os\n",
    "import numpy as np\n",
    "\n",
    "# Add working directory to path\n",
    "import sys\n",
    "cwd = os.getcwd()\n",
    "if cwd not in sys.path:\n",
    "    sys.path.append(cwd)\n",
    "\n",
    "# Custom modules\n",
    "from custom_modules.trialemulation.trial_sequence import trial_sequence\n",
    "from custom_modules.trialemulation.te_stats_glm_logit import TEStatsGLMLogit\n",
    "\n",
    "CSV_PATH = './csv_files/'\n",
    "PP_PATH = './models/PP/'\n",
    "ITT_PATH = './models/ITT/'\n",
    "SCRIPT_PATH = os.getcwd()\n",
    "\n",
    "# Set pandas display options to prevent wrapping\n",
    "pd.set_option('display.width', 1000)  # Adjust width to fit your terminal\n",
    "pd.set_option('display.max_columns', None)  # Show all columns"
   ]
  },
  {
   "cell_type": "markdown",
   "metadata": {},
   "source": [
    "### b. Specify estimands"
   ]
  },
  {
   "cell_type": "code",
   "execution_count": 2,
   "metadata": {},
   "outputs": [],
   "source": [
    "trial_pp = trial_sequence(\"PP\")  # Per-protocol\n",
    "trial_itt = trial_sequence(\"ITT\") # Intention-to-treat"
   ]
  },
  {
   "cell_type": "markdown",
   "metadata": {},
   "source": [
    "### c. Create directories"
   ]
  },
  {
   "cell_type": "code",
   "execution_count": 3,
   "metadata": {},
   "outputs": [],
   "source": [
    "trial_pp_dir = os.path.join(os.getcwd(), \"trial_pp\")\n",
    "os.makedirs(trial_pp_dir, exist_ok=True)\n",
    "\n",
    "trial_itt_dir = os.path.join(os.getcwd(), \"trial_itt\")\n",
    "os.makedirs(trial_itt_dir, exist_ok=True)"
   ]
  },
  {
   "cell_type": "markdown",
   "metadata": {},
   "source": [
    "## 2. Data Preparation"
   ]
  },
  {
   "cell_type": "markdown",
   "metadata": {},
   "source": [
    "### a. Load the data"
   ]
  },
  {
   "cell_type": "code",
   "execution_count": 4,
   "metadata": {},
   "outputs": [
    {
     "name": "stdout",
     "output_type": "stream",
     "text": [
      "Data loaded successfully!\n",
      "   id  period  treatment  x1        x2  x3        x4  age     age_s  outcome  censored  eligible\n",
      "0   1       0          1   1  1.146148   0  0.734203   36  0.083333        0         0         1\n",
      "1   1       1          1   1  0.002200   0  0.734203   37  0.166667        0         0         0\n",
      "2   1       2          1   0 -0.481762   0  0.734203   38  0.250000        0         0         0\n",
      "3   1       3          1   0  0.007872   0  0.734203   39  0.333333        0         0         0\n",
      "4   1       4          1   1  0.216054   0  0.734203   40  0.416667        0         0         0\n"
     ]
    }
   ],
   "source": [
    "file_path = os.path.join(CSV_PATH, \"data_censored.csv\")\n",
    "\n",
    "# Read the CSV file into a DataFrame\n",
    "try:\n",
    "    data_censored = pd.read_csv(file_path)\n",
    "    print(\"Data loaded successfully!\")\n",
    "    print(data_censored.head())  # Display the first few rows\n",
    "except FileNotFoundError:\n",
    "    print(f\"File not found at {file_path}\")"
   ]
  },
  {
   "cell_type": "markdown",
   "metadata": {},
   "source": [
    "### b. Set the data"
   ]
  },
  {
   "cell_type": "code",
   "execution_count": 5,
   "metadata": {},
   "outputs": [],
   "source": [
    "trial_pp = trial_pp.set_data(\n",
    "    data=data_censored,\n",
    "    id_col=\"id\",\n",
    "    period_col=\"period\",\n",
    "    treatment_col=\"treatment\",\n",
    "    outcome_col=\"outcome\",\n",
    "    eligible_col=\"eligible\"\n",
    ")\n",
    "\n",
    "trial_itt = trial_itt.set_data(\n",
    "    data=data_censored,\n",
    "    id_col=\"id\",\n",
    "    period_col=\"period\",\n",
    "    treatment_col=\"treatment\",\n",
    "    outcome_col=\"outcome\",\n",
    "    eligible_col=\"eligible\"\n",
    ")"
   ]
  },
  {
   "cell_type": "code",
   "execution_count": 6,
   "metadata": {},
   "outputs": [
    {
     "name": "stdout",
     "output_type": "stream",
     "text": [
      "Trial Sequence Object\n",
      "Estimand: Intention-to-treat\n",
      "\n",
      "Data:\n",
      "     id  period  treatment  x1        x2  x3        x4  age     age_s  outcome  censored  eligible  time_of_event  first  am_1  cumA  switch  regime_start  time_on_regime  eligible0  eligible1\n",
      "0     1       0          1   1  1.146148   0  0.734203   36  0.083333        0         0         1         9999.0   True     0     1       0             0               0          1          0\n",
      "1     1       1          1   1  0.002200   0  0.734203   37  0.166667        0         0         0         9999.0  False     1     2       0             1               1          0          1\n",
      "2     1       2          1   0 -0.481762   0  0.734203   38  0.250000        0         0         0         9999.0  False     1     3       0             2               1          0          1\n",
      "3     1       3          1   0  0.007872   0  0.734203   39  0.333333        0         0         0         9999.0  False     1     4       0             3               1          0          1\n",
      "4     1       4          1   1  0.216054   0  0.734203   40  0.416667        0         0         0         9999.0  False     1     5       0             4               1          0          1\n",
      "..   ..     ...        ...  ..       ...  ..       ...  ...       ...      ...       ...       ...            ...    ...   ...   ...     ...           ...             ...        ...        ...\n",
      "704  98       2          1   0 -0.735241   0  0.317418   66  2.583333        0         0         0           14.0  False     1     3       0             2               1          0          1\n",
      "705  98       3          0   0 -0.425345   0  0.317418   67  2.666667        0         0         0           14.0  False     1     3       1             3               1          0          1\n",
      "717  99       0          1   1 -0.346378   1  0.575268   65  2.500000        0         0         1            7.0   True     0     1       0             0               0          1          0\n",
      "718  99       1          1   0 -1.106481   1  0.575268   66  2.583333        0         0         0            7.0  False     1     2       0             1               1          0          1\n",
      "719  99       2          0   0  1.650478   1  0.575268   67  2.666667        0         0         0            7.0  False     1     2       1             2               1          0          1\n",
      "\n",
      "[321 rows x 21 columns]\n"
     ]
    }
   ],
   "source": [
    "trial_itt.show()"
   ]
  },
  {
   "cell_type": "markdown",
   "metadata": {},
   "source": [
    "## 3. Weight models and censoring"
   ]
  },
  {
   "cell_type": "markdown",
   "metadata": {},
   "source": [
    "### a. Censoring due to treatment switching"
   ]
  },
  {
   "cell_type": "code",
   "execution_count": 7,
   "metadata": {},
   "outputs": [
    {
     "name": "stdout",
     "output_type": "stream",
     "text": [
      " - Numerator formula: treatment ~ age\n",
      " - Denominator formula: treatment ~ age + x1 + x3\n",
      " - Model fitter type: TEStatsGLMLogit\n",
      " - Weight models not fitted. Use calculate_weights()\n"
     ]
    }
   ],
   "source": [
    "# Set switch weight model\n",
    "trial_pp = trial_pp.set_switch_weight_model(\n",
    "    numerator=\"age\",  \n",
    "    denominator=\"age + x1 + x3\",  \n",
    "    model_fitter=TEStatsGLMLogit(os.path.join(PP_PATH, \"switch_models\"))\n",
    ")\n",
    "\n",
    "trial_pp.switch_weights.show()"
   ]
  },
  {
   "cell_type": "markdown",
   "metadata": {},
   "source": [
    "### 3.2 Other informative censoring"
   ]
  },
  {
   "cell_type": "code",
   "execution_count": 8,
   "metadata": {},
   "outputs": [
    {
     "name": "stdout",
     "output_type": "stream",
     "text": [
      " - Numerator formula: (1 - censored) ~ ~ x2\n",
      " - Denominator formula: (1 - censored) ~ ~ x2 + x1\n",
      " - Model fitter type: TEStatsGLMLogit\n",
      " - Weight models not fitted. Use calculate_weights()\n"
     ]
    }
   ],
   "source": [
    "# Set censor weight model\n",
    "trial_pp = trial_pp.set_censor_weight_model(\n",
    "    censor_event=\"censored\",\n",
    "    numerator=\"~ x2\",\n",
    "    denominator=\"~ x2 + x1\",\n",
    "    pool_models=\"none\",\n",
    "    model_fitter=TEStatsGLMLogit(os.path.join(PP_PATH, \"switch_models\"))\n",
    ")\n",
    "\n",
    "# Display censor weights\n",
    "trial_pp.censor_weights.show()"
   ]
  },
  {
   "cell_type": "code",
   "execution_count": 9,
   "metadata": {},
   "outputs": [
    {
     "name": "stdout",
     "output_type": "stream",
     "text": [
      " - Numerator formula: (1 - censored) ~ ~ x2\n",
      " - Denominator formula: (1 - censored) ~ ~ x2 + x1\n",
      " - Numerator model is pooled. Denominator model is not.\n",
      " - Model fitter type: TEStatsGLMLogit\n",
      " - Weight models not fitted. Use calculate_weights()\n"
     ]
    }
   ],
   "source": [
    "# Set censor weight model\n",
    "trial_itt = trial_itt.set_censor_weight_model(\n",
    "    censor_event=\"censored\",\n",
    "    numerator=\"~ x2\",\n",
    "    denominator=\"~ x2 + x1\",\n",
    "    pool_models=\"numerator\",\n",
    "    model_fitter= TEStatsGLMLogit(save_path = ITT_PATH + \"switch_models\")\n",
    ")\n",
    "\n",
    "trial_itt.censor_weights.show()"
   ]
  },
  {
   "cell_type": "markdown",
   "metadata": {},
   "source": [
    "## 4. Calculate weights"
   ]
  },
  {
   "cell_type": "code",
   "execution_count": 10,
   "metadata": {},
   "outputs": [
    {
     "ename": "AttributeError",
     "evalue": "'TrialSequencePP' object has no attribute 'calculate_weights'",
     "output_type": "error",
     "traceback": [
      "\u001b[31m---------------------------------------------------------------------------\u001b[39m",
      "\u001b[31mAttributeError\u001b[39m                            Traceback (most recent call last)",
      "\u001b[36mCell\u001b[39m\u001b[36m \u001b[39m\u001b[32mIn[10]\u001b[39m\u001b[32m, line 2\u001b[39m\n\u001b[32m      1\u001b[39m \u001b[38;5;66;03m# Calculate weights for Per-protocol trial\u001b[39;00m\n\u001b[32m----> \u001b[39m\u001b[32m2\u001b[39m trial_pp = \u001b[43mtrial_pp\u001b[49m\u001b[43m.\u001b[49m\u001b[43mcalculate_weights\u001b[49m()\n\u001b[32m      4\u001b[39m \u001b[38;5;66;03m# Calculate weights for ITT trial\u001b[39;00m\n\u001b[32m      5\u001b[39m trial_itt = trial_itt.calculate_weights()\n",
      "\u001b[31mAttributeError\u001b[39m: 'TrialSequencePP' object has no attribute 'calculate_weights'"
     ]
    }
   ],
   "source": [
    "# Calculate weights for Per-protocol trial\n",
    "trial_pp = trial_pp.calculate_weights()\n",
    "\n",
    "# Calculate weights for ITT trial\n",
    "trial_itt = trial_itt.calculate_weights()"
   ]
  },
  {
   "cell_type": "code",
   "execution_count": null,
   "metadata": {},
   "outputs": [],
   "source": [
    "trial_itt.show_weight_models()"
   ]
  },
  {
   "cell_type": "code",
   "execution_count": null,
   "metadata": {},
   "outputs": [],
   "source": [
    "trial_pp.show_weight_models()"
   ]
  },
  {
   "cell_type": "markdown",
   "metadata": {},
   "source": [
    "## 5. Specify Outcome Model"
   ]
  },
  {
   "cell_type": "code",
   "execution_count": null,
   "metadata": {},
   "outputs": [],
   "source": [
    "# General case\n",
    "trial_pp.set_outcome_model()\n",
    "\n",
    "# ITT trial with adjustment term\n",
    "trial_itt.set_outcome_model(adjustment_terms=\"x2\")"
   ]
  }
 ],
 "metadata": {
  "kernelspec": {
   "display_name": "Python 3",
   "language": "python",
   "name": "python3"
  },
  "language_info": {
   "codemirror_mode": {
    "name": "ipython",
    "version": 3
   },
   "file_extension": ".py",
   "mimetype": "text/x-python",
   "name": "python",
   "nbconvert_exporter": "python",
   "pygments_lexer": "ipython3",
   "version": "3.13.2"
  }
 },
 "nbformat": 4,
 "nbformat_minor": 2
}
