{
 "cells": [
  {
   "cell_type": "markdown",
   "metadata": {},
   "source": [
    "# **Target Trial Emulation in Python**"
   ]
  },
  {
   "cell_type": "markdown",
   "metadata": {},
   "source": [
    "## 1. Setup"
   ]
  },
  {
   "cell_type": "markdown",
   "metadata": {},
   "source": [
    "### a. Library and Paths Setup"
   ]
  },
  {
   "cell_type": "code",
   "execution_count": 1,
   "metadata": {},
   "outputs": [],
   "source": [
    "import pandas as pd\n",
    "import os\n",
    "import numpy as np\n",
    "\n",
    "# Add working directory to path\n",
    "import sys\n",
    "cwd = os.getcwd()\n",
    "if cwd not in sys.path:\n",
    "    sys.path.append(cwd)\n",
    "\n",
    "# Custom modules\n",
    "from custom_modules.trialemulation import trial_sequence as ts\n",
    "from custom_modules.trialemulation.model_fitting import stats_glm_logit\n",
    "from custom_modules.trialemulation.te_weights import TeWeightsSpec\n",
    "\n",
    "\n",
    "CSV_PATH = './csv_files/'\n",
    "PP_PATH = './models/PP/'\n",
    "ITT_PATH = './models/ITT/'\n",
    "SCRIPT_PATH = os.getcwd()\n",
    "\n",
    "# Set pandas display options to prevent wrapping\n",
    "pd.set_option('display.width', 1000)  # Adjust width to fit your terminal\n",
    "pd.set_option('display.max_columns', None)  # Show all columns"
   ]
  },
  {
   "cell_type": "markdown",
   "metadata": {},
   "source": [
    "### b. Specify estimands"
   ]
  },
  {
   "cell_type": "code",
   "execution_count": 2,
   "metadata": {},
   "outputs": [],
   "source": [
    "# Create instances\n",
    "trial_pp = ts.TrialSequencePP()\n",
    "trial_itt = ts.TrialSequenceITT()"
   ]
  },
  {
   "cell_type": "markdown",
   "metadata": {},
   "source": [
    "### c. Create directories"
   ]
  },
  {
   "cell_type": "code",
   "execution_count": 3,
   "metadata": {},
   "outputs": [],
   "source": [
    "trial_pp_dir = os.path.join(os.getcwd(), \"trial_pp\")\n",
    "os.makedirs(trial_pp_dir, exist_ok=True)\n",
    "\n",
    "trial_itt_dir = os.path.join(os.getcwd(), \"trial_itt\")\n",
    "os.makedirs(trial_itt_dir, exist_ok=True)"
   ]
  },
  {
   "cell_type": "markdown",
   "metadata": {},
   "source": [
    "## 2. Data Preparation"
   ]
  },
  {
   "cell_type": "markdown",
   "metadata": {},
   "source": [
    "### a. Load the data"
   ]
  },
  {
   "cell_type": "code",
   "execution_count": 4,
   "metadata": {},
   "outputs": [
    {
     "name": "stdout",
     "output_type": "stream",
     "text": [
      "Data loaded successfully!\n",
      "   id  period  treatment  x1        x2  x3        x4  age     age_s  outcome  censored  eligible\n",
      "0   1       0          1   1  1.146148   0  0.734203   36  0.083333        0         0         1\n",
      "1   1       1          1   1  0.002200   0  0.734203   37  0.166667        0         0         0\n",
      "2   1       2          1   0 -0.481762   0  0.734203   38  0.250000        0         0         0\n",
      "3   1       3          1   0  0.007872   0  0.734203   39  0.333333        0         0         0\n",
      "4   1       4          1   1  0.216054   0  0.734203   40  0.416667        0         0         0\n"
     ]
    }
   ],
   "source": [
    "file_path = os.path.join(CSV_PATH, \"data_censored.csv\")\n",
    "\n",
    "# Read the CSV file into a DataFrame\n",
    "try:\n",
    "    data_censored = pd.read_csv(file_path)\n",
    "    print(\"Data loaded successfully!\")\n",
    "    print(data_censored.head())  # Display the first few rows\n",
    "except FileNotFoundError:\n",
    "    print(f\"File not found at {file_path}\")"
   ]
  },
  {
   "cell_type": "markdown",
   "metadata": {},
   "source": [
    "### b. Set the data"
   ]
  },
  {
   "cell_type": "code",
   "execution_count": 5,
   "metadata": {},
   "outputs": [],
   "source": [
    "trial_pp.set_data(data_censored)\n",
    "trial_itt.set_data(data_censored)"
   ]
  },
  {
   "cell_type": "code",
   "execution_count": 6,
   "metadata": {},
   "outputs": [
    {
     "name": "stdout",
     "output_type": "stream",
     "text": [
      "Trial Sequence Object\n",
      "Estimand: Intention-to-treat\n",
      "\n",
      "Data:\n",
      "     id  period  treatment  x1        x2  x3        x4  age     age_s  outcome  censored  eligible  time_of_event  am_1  switch  regime_start  time_on_regime  cumA  eligible0  eligible1\n",
      "0     1       0          1   1  1.146148   0  0.734203   36  0.083333        0         0         1           9999     0       1           0.0             0.0     1          1          0\n",
      "1     1       1          1   1  0.002200   0  0.734203   37  0.166667        0         0         0           9999     1       0           0.0             1.0     2          0          1\n",
      "2     1       2          1   0 -0.481762   0  0.734203   38  0.250000        0         0         0           9999     1       0           0.0             2.0     3          0          1\n",
      "3     1       3          1   0  0.007872   0  0.734203   39  0.333333        0         0         0           9999     1       0           0.0             3.0     4          0          1\n",
      "4     1       4          1   1  0.216054   0  0.734203   40  0.416667        0         0         0           9999     1       0           0.0             4.0     5          0          1\n",
      "..   ..     ...        ...  ..       ...  ..       ...  ...       ...      ...       ...       ...            ...   ...     ...           ...             ...   ...        ...        ...\n",
      "720  99       3          0   0 -0.747906   1  0.575268   68  2.750000        0         0         0            724     0       0           2.0             1.0     2          1          0\n",
      "721  99       4          0   0 -0.790056   1  0.575268   69  2.833333        0         0         0            724     0       0           2.0             2.0     2          1          0\n",
      "722  99       5          1   1  0.387429   1  0.575268   70  2.916667        0         0         0            724     0       1           5.0             3.0     3          1          0\n",
      "723  99       6          1   1 -0.033762   1  0.575268   71  3.000000        0         0         0            724     1       0           5.0             1.0     4          0          1\n",
      "724  99       7          0   0 -1.340497   1  0.575268   72  3.083333        1         0         0            724     1       1           7.0             2.0     4          0          1\n",
      "\n",
      "[725 rows x 20 columns]\n",
      "\n",
      "IPW for informative censoring:\n",
      "<custom_modules.trialemulation.te_weights.TeWeightsUnset object at 0x0000023AFBFB6210>\n",
      "\n",
      "Outcome model:\n",
      "Not set\n",
      "\n",
      "Expansion options:\n",
      "Sequence of Trials Data:\n",
      "- Use set_expansion_options() and expand_trials() to construct the sequence of trials dataset.\n"
     ]
    }
   ],
   "source": [
    "trial_itt.show()"
   ]
  },
  {
   "cell_type": "markdown",
   "metadata": {},
   "source": [
    "## 3. Weight models and censoring"
   ]
  },
  {
   "cell_type": "markdown",
   "metadata": {},
   "source": [
    "### a. Censoring due to treatment switching"
   ]
  },
  {
   "cell_type": "code",
   "execution_count": 7,
   "metadata": {},
   "outputs": [
    {
     "name": "stdout",
     "output_type": "stream",
     "text": [
      "  - Numerator formula: treatment ~ age\n",
      "  - Denominator formula: treatment ~ age + x1 + x3\n",
      "  - Model fitter type: GLMLogitModelFitter\n",
      "  - Weight models not fitted. Use `calculate_weights()`\n"
     ]
    }
   ],
   "source": [
    "# Set switch weight model\n",
    "trial_pp = trial_pp.set_switch_weight_model(\n",
    "    numerator=\"age\",  \n",
    "    denominator=\"age + x1 + x3\",  \n",
    "    model_fitter=stats_glm_logit(os.path.join(PP_PATH, \"switch_models\"))\n",
    ")\n",
    "\n",
    "trial_pp.show_switch_weights()"
   ]
  },
  {
   "cell_type": "markdown",
   "metadata": {},
   "source": [
    "### 3.2 Other informative censoring"
   ]
  },
  {
   "cell_type": "code",
   "execution_count": 8,
   "metadata": {},
   "outputs": [
    {
     "name": "stdout",
     "output_type": "stream",
     "text": [
      "Outcome formula updated based on censor weights.\n",
      "  - Numerator formula: 1 - censored ~  x2\n",
      "  - Denominator formula: 1 - censored ~  x2 + x1\n",
      "  - Neither model is pooled.\n",
      "  - Model fitter type: GLMLogitModelFitter\n",
      "  - Weight models not fitted. Use `calculate_weights()`\n"
     ]
    }
   ],
   "source": [
    "# Set censor weight model\n",
    "trial_pp = trial_pp.set_censor_weight_model(\n",
    "    censor_event=\"censored\",\n",
    "    numerator=\"~ x2\",\n",
    "    denominator=\"~ x2 + x1\",\n",
    "    pool_models=\"none\",\n",
    "    model_fitter= stats_glm_logit(os.path.join(PP_PATH, \"switch_models\"))\n",
    ")\n",
    "\n",
    "# Display censor weights\n",
    "trial_pp.show_censor_weights()"
   ]
  },
  {
   "cell_type": "code",
   "execution_count": 9,
   "metadata": {},
   "outputs": [
    {
     "name": "stdout",
     "output_type": "stream",
     "text": [
      "Outcome formula updated based on censor weights.\n",
      "  - Numerator formula: 1 - censored ~  x2\n",
      "  - Denominator formula: 1 - censored ~  x2 + x1\n",
      "  - Numerator model is pooled across treatment arms. Denominator model is not pooled.\n",
      "  - Model fitter type: GLMLogitModelFitter\n",
      "  - Weight models not fitted. Use `calculate_weights()`\n"
     ]
    }
   ],
   "source": [
    "# Set censor weight model\n",
    "trial_itt = trial_itt.set_censor_weight_model(\n",
    "    censor_event=\"censored\",\n",
    "    numerator=\"~ x2\",\n",
    "    denominator=\"~ x2 + x1\",\n",
    "    pool_models=\"numerator\",\n",
    "    model_fitter= stats_glm_logit(save_path = ITT_PATH + \"switch_models\")\n",
    ")\n",
    "\n",
    "trial_itt.show_censor_weights()"
   ]
  },
  {
   "cell_type": "markdown",
   "metadata": {},
   "source": [
    "## 4. Calculate weights"
   ]
  },
  {
   "cell_type": "code",
   "execution_count": 10,
   "metadata": {},
   "outputs": [
    {
     "name": "stdout",
     "output_type": "stream",
     "text": [
      "Weights calculated successfully.\n"
     ]
    },
    {
     "name": "stderr",
     "output_type": "stream",
     "text": [
      "c:\\Users\\andre\\AppData\\Local\\Programs\\Python\\Python313\\Lib\\site-packages\\statsmodels\\genmod\\generalized_linear_model.py:1342: PerfectSeparationWarning: Perfect separation or prediction detected, parameter may not be identified\n",
      "  warnings.warn(msg, category=PerfectSeparationWarning)\n",
      "c:\\Users\\andre\\AppData\\Local\\Programs\\Python\\Python313\\Lib\\site-packages\\statsmodels\\genmod\\generalized_linear_model.py:1342: PerfectSeparationWarning: Perfect separation or prediction detected, parameter may not be identified\n",
      "  warnings.warn(msg, category=PerfectSeparationWarning)\n",
      "c:\\Users\\andre\\AppData\\Local\\Programs\\Python\\Python313\\Lib\\site-packages\\statsmodels\\genmod\\generalized_linear_model.py:1342: PerfectSeparationWarning: Perfect separation or prediction detected, parameter may not be identified\n",
      "  warnings.warn(msg, category=PerfectSeparationWarning)\n",
      "c:\\Users\\andre\\AppData\\Local\\Programs\\Python\\Python313\\Lib\\site-packages\\statsmodels\\genmod\\generalized_linear_model.py:1342: PerfectSeparationWarning: Perfect separation or prediction detected, parameter may not be identified\n",
      "  warnings.warn(msg, category=PerfectSeparationWarning)\n",
      "c:\\Users\\andre\\AppData\\Local\\Programs\\Python\\Python313\\Lib\\site-packages\\statsmodels\\genmod\\generalized_linear_model.py:1342: PerfectSeparationWarning: Perfect separation or prediction detected, parameter may not be identified\n",
      "  warnings.warn(msg, category=PerfectSeparationWarning)\n",
      "c:\\Users\\andre\\AppData\\Local\\Programs\\Python\\Python313\\Lib\\site-packages\\statsmodels\\genmod\\generalized_linear_model.py:1342: PerfectSeparationWarning: Perfect separation or prediction detected, parameter may not be identified\n",
      "  warnings.warn(msg, category=PerfectSeparationWarning)\n",
      "c:\\Users\\andre\\AppData\\Local\\Programs\\Python\\Python313\\Lib\\site-packages\\statsmodels\\genmod\\generalized_linear_model.py:1342: PerfectSeparationWarning: Perfect separation or prediction detected, parameter may not be identified\n",
      "  warnings.warn(msg, category=PerfectSeparationWarning)\n",
      "c:\\Users\\andre\\AppData\\Local\\Programs\\Python\\Python313\\Lib\\site-packages\\statsmodels\\genmod\\generalized_linear_model.py:1342: PerfectSeparationWarning: Perfect separation or prediction detected, parameter may not be identified\n",
      "  warnings.warn(msg, category=PerfectSeparationWarning)\n",
      "c:\\Users\\andre\\AppData\\Local\\Programs\\Python\\Python313\\Lib\\site-packages\\statsmodels\\genmod\\generalized_linear_model.py:1342: PerfectSeparationWarning: Perfect separation or prediction detected, parameter may not be identified\n",
      "  warnings.warn(msg, category=PerfectSeparationWarning)\n",
      "c:\\Users\\andre\\AppData\\Local\\Programs\\Python\\Python313\\Lib\\site-packages\\statsmodels\\genmod\\generalized_linear_model.py:1342: PerfectSeparationWarning: Perfect separation or prediction detected, parameter may not be identified\n",
      "  warnings.warn(msg, category=PerfectSeparationWarning)\n",
      "c:\\Users\\andre\\AppData\\Local\\Programs\\Python\\Python313\\Lib\\site-packages\\statsmodels\\genmod\\generalized_linear_model.py:1342: PerfectSeparationWarning: Perfect separation or prediction detected, parameter may not be identified\n",
      "  warnings.warn(msg, category=PerfectSeparationWarning)\n",
      "c:\\Users\\andre\\AppData\\Local\\Programs\\Python\\Python313\\Lib\\site-packages\\statsmodels\\genmod\\generalized_linear_model.py:1342: PerfectSeparationWarning: Perfect separation or prediction detected, parameter may not be identified\n",
      "  warnings.warn(msg, category=PerfectSeparationWarning)\n",
      "c:\\Users\\andre\\AppData\\Local\\Programs\\Python\\Python313\\Lib\\site-packages\\statsmodels\\genmod\\generalized_linear_model.py:1342: PerfectSeparationWarning: Perfect separation or prediction detected, parameter may not be identified\n",
      "  warnings.warn(msg, category=PerfectSeparationWarning)\n",
      "c:\\Users\\andre\\AppData\\Local\\Programs\\Python\\Python313\\Lib\\site-packages\\statsmodels\\genmod\\generalized_linear_model.py:1342: PerfectSeparationWarning: Perfect separation or prediction detected, parameter may not be identified\n",
      "  warnings.warn(msg, category=PerfectSeparationWarning)\n",
      "c:\\Users\\andre\\AppData\\Local\\Programs\\Python\\Python313\\Lib\\site-packages\\statsmodels\\genmod\\generalized_linear_model.py:1342: PerfectSeparationWarning: Perfect separation or prediction detected, parameter may not be identified\n",
      "  warnings.warn(msg, category=PerfectSeparationWarning)\n",
      "c:\\Users\\andre\\AppData\\Local\\Programs\\Python\\Python313\\Lib\\site-packages\\statsmodels\\genmod\\generalized_linear_model.py:1342: PerfectSeparationWarning: Perfect separation or prediction detected, parameter may not be identified\n",
      "  warnings.warn(msg, category=PerfectSeparationWarning)\n",
      "c:\\Users\\andre\\AppData\\Local\\Programs\\Python\\Python313\\Lib\\site-packages\\statsmodels\\genmod\\generalized_linear_model.py:1342: PerfectSeparationWarning: Perfect separation or prediction detected, parameter may not be identified\n",
      "  warnings.warn(msg, category=PerfectSeparationWarning)\n",
      "c:\\Users\\andre\\AppData\\Local\\Programs\\Python\\Python313\\Lib\\site-packages\\statsmodels\\genmod\\generalized_linear_model.py:1342: PerfectSeparationWarning: Perfect separation or prediction detected, parameter may not be identified\n",
      "  warnings.warn(msg, category=PerfectSeparationWarning)\n",
      "c:\\Users\\andre\\AppData\\Local\\Programs\\Python\\Python313\\Lib\\site-packages\\statsmodels\\genmod\\generalized_linear_model.py:1342: PerfectSeparationWarning: Perfect separation or prediction detected, parameter may not be identified\n",
      "  warnings.warn(msg, category=PerfectSeparationWarning)\n",
      "c:\\Users\\andre\\AppData\\Local\\Programs\\Python\\Python313\\Lib\\site-packages\\statsmodels\\genmod\\generalized_linear_model.py:1342: PerfectSeparationWarning: Perfect separation or prediction detected, parameter may not be identified\n",
      "  warnings.warn(msg, category=PerfectSeparationWarning)\n",
      "c:\\Users\\andre\\AppData\\Local\\Programs\\Python\\Python313\\Lib\\site-packages\\statsmodels\\genmod\\generalized_linear_model.py:1342: PerfectSeparationWarning: Perfect separation or prediction detected, parameter may not be identified\n",
      "  warnings.warn(msg, category=PerfectSeparationWarning)\n",
      "c:\\Users\\andre\\AppData\\Local\\Programs\\Python\\Python313\\Lib\\site-packages\\statsmodels\\genmod\\generalized_linear_model.py:1342: PerfectSeparationWarning: Perfect separation or prediction detected, parameter may not be identified\n",
      "  warnings.warn(msg, category=PerfectSeparationWarning)\n",
      "c:\\Users\\andre\\AppData\\Local\\Programs\\Python\\Python313\\Lib\\site-packages\\statsmodels\\genmod\\generalized_linear_model.py:1342: PerfectSeparationWarning: Perfect separation or prediction detected, parameter may not be identified\n",
      "  warnings.warn(msg, category=PerfectSeparationWarning)\n",
      "c:\\Users\\andre\\AppData\\Local\\Programs\\Python\\Python313\\Lib\\site-packages\\statsmodels\\genmod\\generalized_linear_model.py:1342: PerfectSeparationWarning: Perfect separation or prediction detected, parameter may not be identified\n",
      "  warnings.warn(msg, category=PerfectSeparationWarning)\n",
      "c:\\Users\\andre\\AppData\\Local\\Programs\\Python\\Python313\\Lib\\site-packages\\statsmodels\\genmod\\generalized_linear_model.py:1342: PerfectSeparationWarning: Perfect separation or prediction detected, parameter may not be identified\n",
      "  warnings.warn(msg, category=PerfectSeparationWarning)\n",
      "c:\\Users\\andre\\AppData\\Local\\Programs\\Python\\Python313\\Lib\\site-packages\\statsmodels\\genmod\\generalized_linear_model.py:1342: PerfectSeparationWarning: Perfect separation or prediction detected, parameter may not be identified\n",
      "  warnings.warn(msg, category=PerfectSeparationWarning)\n",
      "c:\\Users\\andre\\AppData\\Local\\Programs\\Python\\Python313\\Lib\\site-packages\\statsmodels\\genmod\\generalized_linear_model.py:1342: PerfectSeparationWarning: Perfect separation or prediction detected, parameter may not be identified\n",
      "  warnings.warn(msg, category=PerfectSeparationWarning)\n",
      "c:\\Users\\andre\\AppData\\Local\\Programs\\Python\\Python313\\Lib\\site-packages\\statsmodels\\genmod\\generalized_linear_model.py:1342: PerfectSeparationWarning: Perfect separation or prediction detected, parameter may not be identified\n",
      "  warnings.warn(msg, category=PerfectSeparationWarning)\n",
      "c:\\Users\\andre\\AppData\\Local\\Programs\\Python\\Python313\\Lib\\site-packages\\statsmodels\\genmod\\generalized_linear_model.py:1342: PerfectSeparationWarning: Perfect separation or prediction detected, parameter may not be identified\n",
      "  warnings.warn(msg, category=PerfectSeparationWarning)\n",
      "c:\\Users\\andre\\AppData\\Local\\Programs\\Python\\Python313\\Lib\\site-packages\\statsmodels\\genmod\\generalized_linear_model.py:1342: PerfectSeparationWarning: Perfect separation or prediction detected, parameter may not be identified\n",
      "  warnings.warn(msg, category=PerfectSeparationWarning)\n",
      "c:\\Users\\andre\\AppData\\Local\\Programs\\Python\\Python313\\Lib\\site-packages\\statsmodels\\genmod\\generalized_linear_model.py:1342: PerfectSeparationWarning: Perfect separation or prediction detected, parameter may not be identified\n",
      "  warnings.warn(msg, category=PerfectSeparationWarning)\n",
      "c:\\Users\\andre\\AppData\\Local\\Programs\\Python\\Python313\\Lib\\site-packages\\statsmodels\\genmod\\generalized_linear_model.py:1342: PerfectSeparationWarning: Perfect separation or prediction detected, parameter may not be identified\n",
      "  warnings.warn(msg, category=PerfectSeparationWarning)\n",
      "c:\\Users\\andre\\AppData\\Local\\Programs\\Python\\Python313\\Lib\\site-packages\\statsmodels\\genmod\\generalized_linear_model.py:1342: PerfectSeparationWarning: Perfect separation or prediction detected, parameter may not be identified\n",
      "  warnings.warn(msg, category=PerfectSeparationWarning)\n",
      "c:\\Users\\andre\\AppData\\Local\\Programs\\Python\\Python313\\Lib\\site-packages\\statsmodels\\genmod\\generalized_linear_model.py:1342: PerfectSeparationWarning: Perfect separation or prediction detected, parameter may not be identified\n",
      "  warnings.warn(msg, category=PerfectSeparationWarning)\n"
     ]
    },
    {
     "ename": "ValueError",
     "evalue": "Switch weight model fitter is missing. Did you call set_switch_weight_model()?",
     "output_type": "error",
     "traceback": [
      "\u001b[31m---------------------------------------------------------------------------\u001b[39m",
      "\u001b[31mValueError\u001b[39m                                Traceback (most recent call last)",
      "\u001b[36mCell\u001b[39m\u001b[36m \u001b[39m\u001b[32mIn[10]\u001b[39m\u001b[32m, line 5\u001b[39m\n\u001b[32m      2\u001b[39m trial_pp = trial_pp.calculate_weights()\n\u001b[32m      4\u001b[39m \u001b[38;5;66;03m# Calculate weights for ITT trial\u001b[39;00m\n\u001b[32m----> \u001b[39m\u001b[32m5\u001b[39m trial_itt = \u001b[43mtrial_itt\u001b[49m\u001b[43m.\u001b[49m\u001b[43mcalculate_weights\u001b[49m\u001b[43m(\u001b[49m\u001b[43m)\u001b[49m\n",
      "\u001b[36mFile \u001b[39m\u001b[32mc:\\Users\\andre\\OneDrive\\Documents\\USC\\2nd Year\\3203\\TTE_R_TO_PYTHON\\custom_modules\\trialemulation\\trial_sequence.py:157\u001b[39m, in \u001b[36mTrialSequence.calculate_weights\u001b[39m\u001b[34m(self, quiet)\u001b[39m\n\u001b[32m    154\u001b[39m     \u001b[38;5;28mself\u001b[39m.weights_calculator = CalculateWeights(\u001b[38;5;28mself\u001b[39m)\n\u001b[32m    156\u001b[39m \u001b[38;5;66;03m# Call weight calculation logic\u001b[39;00m\n\u001b[32m--> \u001b[39m\u001b[32m157\u001b[39m \u001b[38;5;28;01mreturn\u001b[39;00m \u001b[38;5;28;43mself\u001b[39;49m\u001b[43m.\u001b[49m\u001b[43mweights_calculator\u001b[49m\u001b[43m.\u001b[49m\u001b[43mcalculate_weights_trial_seq\u001b[49m\u001b[43m(\u001b[49m\u001b[43mquiet\u001b[49m\u001b[43m)\u001b[49m\n",
      "\u001b[36mFile \u001b[39m\u001b[32mc:\\Users\\andre\\OneDrive\\Documents\\USC\\2nd Year\\3203\\TTE_R_TO_PYTHON\\custom_modules\\trialemulation\\calculate_weights.py:24\u001b[39m, in \u001b[36mCalculateWeights.calculate_weights_trial_seq\u001b[39m\u001b[34m(self, quiet, switch_weights, censor_weights)\u001b[39m\n\u001b[32m     21\u001b[39m ts.data[\u001b[33m\"\u001b[39m\u001b[33mwt\u001b[39m\u001b[33m\"\u001b[39m] = \u001b[32m1\u001b[39m  \u001b[38;5;66;03m# Initialize weights to 1\u001b[39;00m\n\u001b[32m     23\u001b[39m \u001b[38;5;28;01mif\u001b[39;00m switch_weights \u001b[38;5;129;01mand\u001b[39;00m \u001b[38;5;28misinstance\u001b[39m(ts.switch_weights, TeWeightsSpec):\n\u001b[32m---> \u001b[39m\u001b[32m24\u001b[39m     \u001b[38;5;28;43mself\u001b[39;49m\u001b[43m.\u001b[49m\u001b[43mcalculate_switch_weights\u001b[49m\u001b[43m(\u001b[49m\u001b[43m)\u001b[49m\n\u001b[32m     25\u001b[39m     ts.data[\u001b[33m\"\u001b[39m\u001b[33mwt\u001b[39m\u001b[33m\"\u001b[39m] *= ts.data[\u001b[33m\"\u001b[39m\u001b[33mwtS\u001b[39m\u001b[33m\"\u001b[39m]\n\u001b[32m     27\u001b[39m \u001b[38;5;28;01mif\u001b[39;00m censor_weights \u001b[38;5;129;01mand\u001b[39;00m \u001b[38;5;28misinstance\u001b[39m(ts.censor_weights, TeWeightsSpec):\n",
      "\u001b[36mFile \u001b[39m\u001b[32mc:\\Users\\andre\\OneDrive\\Documents\\USC\\2nd Year\\3203\\TTE_R_TO_PYTHON\\custom_modules\\trialemulation\\calculate_weights.py:41\u001b[39m, in \u001b[36mCalculateWeights.calculate_switch_weights\u001b[39m\u001b[34m(self)\u001b[39m\n\u001b[32m     38\u001b[39m ts = \u001b[38;5;28mself\u001b[39m.trial_sequence\n\u001b[32m     40\u001b[39m \u001b[38;5;28;01mif\u001b[39;00m ts.switch_weights \u001b[38;5;129;01mis\u001b[39;00m \u001b[38;5;28;01mNone\u001b[39;00m \u001b[38;5;129;01mor\u001b[39;00m ts.switch_weights.model_fitter \u001b[38;5;129;01mis\u001b[39;00m \u001b[38;5;28;01mNone\u001b[39;00m:\n\u001b[32m---> \u001b[39m\u001b[32m41\u001b[39m     \u001b[38;5;28;01mraise\u001b[39;00m \u001b[38;5;167;01mValueError\u001b[39;00m(\u001b[33m\"\u001b[39m\u001b[33mSwitch weight model fitter is missing. Did you call set_switch_weight_model()?\u001b[39m\u001b[33m\"\u001b[39m)\n\u001b[32m     43\u001b[39m ts.data[\u001b[33m\"\u001b[39m\u001b[33mp_n\u001b[39m\u001b[33m\"\u001b[39m] = np.nan\n\u001b[32m     44\u001b[39m ts.data[\u001b[33m\"\u001b[39m\u001b[33mp_d\u001b[39m\u001b[33m\"\u001b[39m] = np.nan\n",
      "\u001b[31mValueError\u001b[39m: Switch weight model fitter is missing. Did you call set_switch_weight_model()?"
     ]
    }
   ],
   "source": [
    "# Calculate weights for Per-protocol trial\n",
    "trial_pp = trial_pp.calculate_weights()\n",
    "\n",
    "# Calculate weights for ITT trial\n",
    "trial_itt = trial_itt.calculate_weights()"
   ]
  },
  {
   "cell_type": "code",
   "execution_count": null,
   "metadata": {},
   "outputs": [],
   "source": [
    "trial_itt.show_weight_models()"
   ]
  },
  {
   "cell_type": "code",
   "execution_count": null,
   "metadata": {},
   "outputs": [],
   "source": [
    "trial_pp.show_weight_models()"
   ]
  },
  {
   "cell_type": "markdown",
   "metadata": {},
   "source": [
    "## 5. Specify Outcome Model"
   ]
  },
  {
   "cell_type": "code",
   "execution_count": null,
   "metadata": {},
   "outputs": [],
   "source": [
    "# General case\n",
    "trial_pp.set_outcome_model()\n",
    "\n",
    "# ITT trial with adjustment term\n",
    "trial_itt.set_outcome_model(adjustment_terms=\"x2\")"
   ]
  }
 ],
 "metadata": {
  "kernelspec": {
   "display_name": "Python 3",
   "language": "python",
   "name": "python3"
  },
  "language_info": {
   "codemirror_mode": {
    "name": "ipython",
    "version": 3
   },
   "file_extension": ".py",
   "mimetype": "text/x-python",
   "name": "python",
   "nbconvert_exporter": "python",
   "pygments_lexer": "ipython3",
   "version": "3.13.2"
  }
 },
 "nbformat": 4,
 "nbformat_minor": 2
}
