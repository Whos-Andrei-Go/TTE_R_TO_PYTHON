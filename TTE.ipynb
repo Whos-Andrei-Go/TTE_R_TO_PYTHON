{
 "cells": [
  {
   "cell_type": "markdown",
   "metadata": {},
   "source": [
    "# **Target Trial Emulation in Python**"
   ]
  },
  {
   "cell_type": "markdown",
   "metadata": {},
   "source": [
    "## A. Setup"
   ]
  },
  {
   "cell_type": "markdown",
   "metadata": {},
   "source": [
    "### I. Library and Paths Setup"
   ]
  },
  {
   "cell_type": "code",
   "execution_count": 2,
   "metadata": {},
   "outputs": [
    {
     "ename": "ModuleNotFoundError",
     "evalue": "No module named 'pandas'",
     "output_type": "error",
     "traceback": [
      "\u001b[31m---------------------------------------------------------------------------\u001b[39m",
      "\u001b[31mModuleNotFoundError\u001b[39m                       Traceback (most recent call last)",
      "\u001b[36mCell\u001b[39m\u001b[36m \u001b[39m\u001b[32mIn[2]\u001b[39m\u001b[32m, line 1\u001b[39m\n\u001b[32m----> \u001b[39m\u001b[32m1\u001b[39m \u001b[38;5;28;01mimport\u001b[39;00m\u001b[38;5;250m \u001b[39m\u001b[34;01mpandas\u001b[39;00m\u001b[38;5;250m \u001b[39m\u001b[38;5;28;01mas\u001b[39;00m\u001b[38;5;250m \u001b[39m\u001b[34;01mpd\u001b[39;00m\n\u001b[32m      2\u001b[39m \u001b[38;5;28;01mimport\u001b[39;00m\u001b[38;5;250m \u001b[39m\u001b[34;01mos\u001b[39;00m\n\u001b[32m      3\u001b[39m \u001b[38;5;28;01mimport\u001b[39;00m\u001b[38;5;250m \u001b[39m\u001b[34;01mnumpy\u001b[39;00m\u001b[38;5;250m \u001b[39m\u001b[38;5;28;01mas\u001b[39;00m\u001b[38;5;250m \u001b[39m\u001b[34;01mnp\u001b[39;00m\n",
      "\u001b[31mModuleNotFoundError\u001b[39m: No module named 'pandas'"
     ]
    }
   ],
   "source": [
    "import pandas as pd\n",
    "import os\n",
    "import numpy as np\n",
    "\n",
    "import sys\n",
    "cwd = os.getcwd()\n",
    "if cwd not in sys.path:\n",
    "    sys.path.append(cwd)\n",
    "\n",
    "from trial_emulation import TrialSequence\n",
    "\n",
    "CSV_PATH = './csv-files/'\n",
    "PP_PATH = './models/PP/'\n",
    "ITT_PATH = './models/ITT/'\n",
    "SCRIPT_PATH = os.getcwd()\n",
    "\n",
    "# Set pandas display options to prevent wrapping\n",
    "pd.set_option('display.width', 1000)  # Adjust width to fit your terminal\n",
    "pd.set_option('display.max_columns', None)  # Show all columns"
   ]
  },
  {
   "cell_type": "markdown",
   "metadata": {},
   "source": [
    "### II. Specify estimands"
   ]
  },
  {
   "cell_type": "code",
   "execution_count": null,
   "metadata": {},
   "outputs": [],
   "source": [
    "trial_pp = TrialSequence(None, \"PP\")\n",
    "trial_itt = TrialSequence(None, \"ITT\")"
   ]
  },
  {
   "cell_type": "markdown",
   "metadata": {},
   "source": [
    "### III. Create directories"
   ]
  },
  {
   "cell_type": "code",
   "execution_count": null,
   "metadata": {},
   "outputs": [],
   "source": [
    "trial_pp_dir = os.path.join(os.getcwd(), \"trial_pp\")\n",
    "os.makedirs(trial_pp_dir, exist_ok=True)\n",
    "\n",
    "trial_itt_dir = os.path.join(os.getcwd(), \"trial_itt\")\n",
    "os.makedirs(trial_itt_dir, exist_ok=True)"
   ]
  },
  {
   "cell_type": "markdown",
   "metadata": {},
   "source": [
    "## B. Data Preparation"
   ]
  },
  {
   "cell_type": "markdown",
   "metadata": {},
   "source": [
    "### I. Load the data"
   ]
  },
  {
   "cell_type": "code",
   "execution_count": null,
   "metadata": {},
   "outputs": [
    {
     "name": "stdout",
     "output_type": "stream",
     "text": [
      "Data loaded successfully!\n",
      "   id  period  treatment  x1        x2  x3        x4  age     age_s  outcome  censored  eligible\n",
      "0   1       0          1   1  1.146148   0  0.734203   36  0.083333        0         0         1\n",
      "1   1       1          1   1  0.002200   0  0.734203   37  0.166667        0         0         0\n",
      "2   1       2          1   0 -0.481762   0  0.734203   38  0.250000        0         0         0\n",
      "3   1       3          1   0  0.007872   0  0.734203   39  0.333333        0         0         0\n",
      "4   1       4          1   1  0.216054   0  0.734203   40  0.416667        0         0         0\n"
     ]
    }
   ],
   "source": [
    "file_path = os.path.join(CSV_PATH, \"data_censored.csv\")\n",
    "\n",
    "# Read the CSV file into a DataFrame\n",
    "try:\n",
    "    data_censored = pd.read_csv(file_path)\n",
    "    print(\"Data loaded successfully!\")\n",
    "    print(data_censored.head())  # Display the first few rows\n",
    "except FileNotFoundError:\n",
    "    print(f\"File not found at {file_path}\")"
   ]
  },
  {
   "cell_type": "markdown",
   "metadata": {},
   "source": [
    "### II. Set the data"
   ]
  },
  {
   "cell_type": "code",
   "execution_count": null,
   "metadata": {},
   "outputs": [],
   "source": [
    "trial_pp.set_data(data_censored)\n",
    "trial_itt.set_data(data_censored)"
   ]
  },
  {
   "cell_type": "code",
   "execution_count": null,
   "metadata": {},
   "outputs": [
    {
     "data": {
      "text/plain": [
       "TrialSequence(estimand=ITT, data_shape=(725, 12))"
      ]
     },
     "execution_count": 6,
     "metadata": {},
     "output_type": "execute_result"
    }
   ],
   "source": [
    "trial_itt"
   ]
  },
  {
   "cell_type": "markdown",
   "metadata": {},
   "source": [
    "## 3. Weight models and censoring"
   ]
  },
  {
   "cell_type": "markdown",
   "metadata": {},
   "source": [
    "### 3.1 Censoring due to treatment switching"
   ]
  },
  {
   "cell_type": "code",
   "execution_count": null,
   "metadata": {},
   "outputs": [
    {
     "ename": "NameError",
     "evalue": "name 'stats_glm_logit' is not defined",
     "output_type": "error",
     "traceback": [
      "\u001b[1;31m---------------------------------------------------------------------------\u001b[0m",
      "\u001b[1;31mNameError\u001b[0m                                 Traceback (most recent call last)",
      "Cell \u001b[1;32mIn[7], line 5\u001b[0m\n\u001b[0;32m      1\u001b[0m \u001b[38;5;66;03m# Set switch weight model\u001b[39;00m\n\u001b[0;32m      2\u001b[0m trial_pp \u001b[38;5;241m=\u001b[39m trial_pp\u001b[38;5;241m.\u001b[39mset_switch_weight_model(\n\u001b[0;32m      3\u001b[0m     numerator\u001b[38;5;241m=\u001b[39m\u001b[38;5;124m\"\u001b[39m\u001b[38;5;124m~ age\u001b[39m\u001b[38;5;124m\"\u001b[39m,\n\u001b[0;32m      4\u001b[0m     denominator\u001b[38;5;241m=\u001b[39m\u001b[38;5;124m\"\u001b[39m\u001b[38;5;124m~ age + x1 + x3\u001b[39m\u001b[38;5;124m\"\u001b[39m,\n\u001b[1;32m----> 5\u001b[0m     model_fitter\u001b[38;5;241m=\u001b[39m\u001b[43mstats_glm_logit\u001b[49m(PP_PATH \u001b[38;5;241m+\u001b[39m \u001b[38;5;124m\"\u001b[39m\u001b[38;5;124mswitch_models\u001b[39m\u001b[38;5;124m\"\u001b[39m)  \u001b[38;5;66;03m# Pass the fitter function\u001b[39;00m\n\u001b[0;32m      6\u001b[0m )\n\u001b[0;32m      8\u001b[0m \u001b[38;5;66;03m# Access switch weights\u001b[39;00m\n\u001b[0;32m      9\u001b[0m \u001b[38;5;28mprint\u001b[39m(trial_pp\u001b[38;5;241m.\u001b[39mdisplay_switch_weights())\n",
      "\u001b[1;31mNameError\u001b[0m: name 'stats_glm_logit' is not defined"
     ]
    }
   ],
   "source": [
    "# Set switch weight model\n",
    "trial_pp = trial_pp.set_switch_weight_model(\n",
    "    numerator=\"~ age\",\n",
    "    denominator=\"~ age + x1 + x3\",\n",
    "    model_fitter=stats_glm_logit(PP_PATH + \"switch_models\")  # Pass the fitter function\n",
    ")\n",
    "\n",
    "# Access switch weights\n",
    "print(trial_pp.display_switch_weights())"
   ]
  },
  {
   "cell_type": "markdown",
   "metadata": {},
   "source": [
    "### 3.2 Other informative censoring"
   ]
  },
  {
   "cell_type": "code",
   "execution_count": null,
   "metadata": {},
   "outputs": [
    {
     "name": "stdout",
     "output_type": "stream",
     "text": [
      "Model details saved to ./models/PP/switch_models\\model_details.txt\n",
      "\n",
      "Censor weight model set with censor event: censored, numerator: ~ x2, denominator: ~ x2 + x1\n",
      "##  - Numerator formula: 1 - censored ~ x2 \n",
      "##  - Denominator formula: 1 - censored ~ x2 + x1 \n",
      "##  - Model fitter type: te_stats_glm_logit \n",
      "##  - Weight models not fitted. Use calculate_weights()\n"
     ]
    }
   ],
   "source": [
    "# Set censor weight model\n",
    "trial_pp = trial_pp.set_censor_weight_model(\n",
    "    censor_event=\"censored\",\n",
    "    numerator=\"~ x2\",\n",
    "    denominator=\"~ x2 + x1\",\n",
    "    pool_models=\"none\",\n",
    "    model_fitter= stats_glm_logit(save_path = PP_PATH + \"switch_models\")\n",
    ")\n",
    "\n",
    "# Display censor weights\n",
    "print(trial_pp.display_censor_weights())"
   ]
  },
  {
   "cell_type": "code",
   "execution_count": null,
   "metadata": {},
   "outputs": [
    {
     "name": "stdout",
     "output_type": "stream",
     "text": [
      "Model details saved to ./models/ITT/switch_models\\model_details.txt\n",
      "\n",
      "Censor weight model set with censor event: censored, numerator: ~ x2, denominator: ~ x2 + x1\n",
      "##  - Numerator formula: 1 - censored ~ x2 \n",
      "##  - Denominator formula: 1 - censored ~ x2 + x1 \n",
      "##  - Model fitter type: te_stats_glm_logit \n",
      "##  - Weight models not fitted. Use calculate_weights()\n"
     ]
    }
   ],
   "source": [
    "# Set censor weight model\n",
    "trial_itt = trial_itt.set_censor_weight_model(\n",
    "    censor_event=\"censored\",\n",
    "    numerator=\"~ x2\",\n",
    "    denominator=\"~ x2 + x1\",\n",
    "    pool_models=\"numerator\",\n",
    "     model_fitter= stats_glm_logit(save_path = ITT_PATH + \"switch_models\")\n",
    ")\n",
    "\n",
    "# Display censor weights\n",
    "print(trial_itt.display_censor_weights())"
   ]
  },
  {
   "cell_type": "markdown",
   "metadata": {},
   "source": [
    "## 4. Calculate weights"
   ]
  },
  {
   "cell_type": "code",
   "execution_count": null,
   "metadata": {},
   "outputs": [
    {
     "name": "stdout",
     "output_type": "stream",
     "text": [
      "Model details saved to ./models/PP/switch_models\\model_details.txt\n",
      "\n",
      "Model details saved to ./models/PP/switch_models\\model_details.txt\n",
      "\n",
      "Weights calculated for trial: Per-protocol\n",
      "Model details saved to ./models/ITT/switch_models\\model_details.txt\n",
      "\n",
      "Weights calculated for trial: ITT\n"
     ]
    }
   ],
   "source": [
    "# Calculate weights for Per-protocol trial\n",
    "trial_pp = trial_pp.calculate_weights()\n",
    "\n",
    "# Calculate weights for ITT trial\n",
    "trial_itt = trial_itt.calculate_weights()\n"
   ]
  },
  {
   "cell_type": "code",
   "execution_count": null,
   "metadata": {},
   "outputs": [
    {
     "name": "stdout",
     "output_type": "stream",
     "text": [
      "## Weight Models for Informative Censoring\n",
      "## ---------------------------------------\n",
      "\n",
      "## Switch Weight Model not set.\n",
      "\n",
      "## [Censor Weight Model]\n",
      "Model: P(censor_event = 0 | X, previous treatment) for denominator\n",
      "\n",
      "## [[n]]\n",
      "Model: P(censor_event = 0 | X) for n\n",
      "\n",
      "  term          estimate     std.error   statistic   p.value\n",
      "  (Intercept)   1.8941961    0.2071122   9.145746   5.921948e-20\n",
      "  x2           -0.5898292    0.1693402   -3.483101  4.956409e-04\n",
      "  x1            0.8552603    0.3452930    2.476912  1.325247e-02\n",
      "\n",
      "  null.deviance df.null logLik    AIC      BIC      deviance df.residual nobs\n",
      "  283.0723      425     -132.1655 270.3309 282.4943 264.3309 423         426\n",
      "\n",
      "  path: ./models/ITT/switch_models\\model_details.txt\n",
      "\n",
      "## [[d0]]\n",
      "Model: P(censor_event = 0 | X) for d0\n",
      "\n",
      "  term          estimate     std.error   statistic   p.value\n",
      "  (Intercept)   1.8941961    0.2071122   9.145746   5.921948e-20\n",
      "  x2           -0.5898292    0.1693402   -3.483101  4.956409e-04\n",
      "  x1            0.8552603    0.3452930    2.476912  1.325247e-02\n",
      "\n",
      "  null.deviance df.null logLik    AIC      BIC      deviance df.residual nobs\n",
      "  283.0723      425     -132.1655 270.3309 282.4943 264.3309 423         426\n",
      "\n",
      "  path: ./models/ITT/switch_models\\model_details.txt\n",
      "\n",
      "## [[d1]]\n",
      "Model: P(censor_event = 0 | X) for d1\n",
      "\n",
      "  term          estimate     std.error   statistic   p.value\n",
      "  (Intercept)   1.8941961    0.2071122   9.145746   5.921948e-20\n",
      "  x2           -0.5898292    0.1693402   -3.483101  4.956409e-04\n",
      "  x1            0.8552603    0.3452930    2.476912  1.325247e-02\n",
      "\n",
      "  null.deviance df.null logLik    AIC      BIC      deviance df.residual nobs\n",
      "  283.0723      425     -132.1655 270.3309 282.4943 264.3309 423         426\n",
      "\n",
      "  path: ./models/ITT/switch_models\\model_details.txt\n",
      "\n"
     ]
    }
   ],
   "source": [
    "trial_itt.show_weight_models()"
   ]
  },
  {
   "cell_type": "code",
   "execution_count": null,
   "metadata": {},
   "outputs": [
    {
     "name": "stdout",
     "output_type": "stream",
     "text": [
      "## Weight Models for Informative Censoring\n",
      "## ---------------------------------------\n",
      "\n",
      "## [Switch Model]\n",
      "Model: P(switch_event = 0 | X) for numerator\n",
      "\n",
      "  term          estimate     std.error   statistic   p.value\n",
      "  (Intercept)   2.4480907    0.1405726   17.415128   6.334656e-68\n",
      "  x2           -0.4486482    0.1368765   -3.277759   1.046346e-03\n",
      "\n",
      "  null.deviance df.null logLik    AIC      BIC      deviance df.residual nobs\n",
      "  404.2156      724     -196.7002 397.4004 406.5727 393.4004 723         725\n",
      "\n",
      "  path: ./models/PP/switch_models\\model_details.txt\n",
      "\n",
      "## [Censor Weight Model]\n",
      "Model: P(censor_event = 0 | X, previous treatment) for denominator\n",
      "\n",
      "## [[n]]\n",
      "Model: P(censor_event = 0 | X) for n\n",
      "\n",
      "  term          estimate     std.error   statistic   p.value\n",
      "  (Intercept)   1.8941961    0.2071122   9.145746   5.921948e-20\n",
      "  x2           -0.5898292    0.1693402   -3.483101  4.956409e-04\n",
      "  x1            0.8552603    0.3452930    2.476912  1.325247e-02\n",
      "\n",
      "  null.deviance df.null logLik    AIC      BIC      deviance df.residual nobs\n",
      "  283.0723      425     -132.1655 270.3309 282.4943 264.3309 423         426\n",
      "\n",
      "  path: ./models/PP/switch_models\\model_details.txt\n",
      "\n",
      "## [[d0]]\n",
      "Model: P(censor_event = 0 | X) for d0\n",
      "\n",
      "  term          estimate     std.error   statistic   p.value\n",
      "  (Intercept)   1.8941961    0.2071122   9.145746   5.921948e-20\n",
      "  x2           -0.5898292    0.1693402   -3.483101  4.956409e-04\n",
      "  x1            0.8552603    0.3452930    2.476912  1.325247e-02\n",
      "\n",
      "  null.deviance df.null logLik    AIC      BIC      deviance df.residual nobs\n",
      "  283.0723      425     -132.1655 270.3309 282.4943 264.3309 423         426\n",
      "\n",
      "  path: ./models/PP/switch_models\\model_details.txt\n",
      "\n",
      "## [[d1]]\n",
      "Model: P(censor_event = 0 | X) for d1\n",
      "\n",
      "  term          estimate     std.error   statistic   p.value\n",
      "  (Intercept)   1.8941961    0.2071122   9.145746   5.921948e-20\n",
      "  x2           -0.5898292    0.1693402   -3.483101  4.956409e-04\n",
      "  x1            0.8552603    0.3452930    2.476912  1.325247e-02\n",
      "\n",
      "  null.deviance df.null logLik    AIC      BIC      deviance df.residual nobs\n",
      "  283.0723      425     -132.1655 270.3309 282.4943 264.3309 423         426\n",
      "\n",
      "  path: ./models/PP/switch_models\\model_details.txt\n",
      "\n"
     ]
    }
   ],
   "source": [
    "trial_pp.show_weight_models()"
   ]
  }
 ],
 "metadata": {
  "kernelspec": {
   "display_name": "Python 3",
   "language": "python",
   "name": "python3"
  },
  "language_info": {
   "codemirror_mode": {
    "name": "ipython",
    "version": 3
   },
   "file_extension": ".py",
   "mimetype": "text/x-python",
   "name": "python",
   "nbconvert_exporter": "python",
   "pygments_lexer": "ipython3",
   "version": "3.13.2"
  }
 },
 "nbformat": 4,
 "nbformat_minor": 2
}
